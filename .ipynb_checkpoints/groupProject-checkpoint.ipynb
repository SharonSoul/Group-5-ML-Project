{
 "cells": [
  {
   "cell_type": "markdown",
   "id": "b5db4d9f",
   "metadata": {},
   "source": [
    "# Importing the Necessary Packages/Libraries"
   ]
  },
  {
   "cell_type": "code",
   "execution_count": 2,
   "id": "d1686a17",
   "metadata": {},
   "outputs": [],
   "source": [
    "import pandas as pd\n",
    "import matplotlib.pyplot as plt\n",
    "import seaborn as sns\n",
    "import numpy as np"
   ]
  },
  {
   "cell_type": "markdown",
   "id": "8b8c9759",
   "metadata": {},
   "source": [
    "# Importing the Necessary Algorithms"
   ]
  },
  {
   "cell_type": "code",
   "execution_count": 34,
   "id": "d171bc3a",
   "metadata": {},
   "outputs": [],
   "source": [
    "from sklearn.preprocessing import OneHotEncoder\n",
    "from sklearn.model_selection import train_test_split\n",
    "from sklearn import metrics\n",
    "from sklearn.linear_model import LinearRegression, GammaRegressor, HuberRegressor, PassiveAggressiveRegressor, PoissonRegressor\n",
    "from sklearn.linear_model import QuantileRegressor, RANSACRegressor, TheilSenRegressor, TweedieRegressor\n",
    "from sklearn.ensemble import  AdaBoostRegressor, BaggingRegressor, ExtraTreesRegressor, RandomForestRegressor\n",
    "from sklearn.ensemble import StackingRegressor, VotingRegressor\n",
    "from sklearn.neighbors import KNeighborsRegressor, RadiusNeighborsRegressor\n",
    "from sklearn.tree import DecisionTreeRegressor, ExtraTreeRegressor\n",
    "from sklearn.metrics import mean_absolute_error, mean_squared_error\n",
    "from sklearn.preprocessing import LabelEncoder, LabelBinarizer"
   ]
  },
  {
   "cell_type": "code",
   "execution_count": 35,
   "id": "a49058dd",
   "metadata": {},
   "outputs": [],
   "source": [
    "le = LabelEncoder()"
   ]
  },
  {
   "cell_type": "markdown",
   "id": "3089be83",
   "metadata": {},
   "source": [
    "# Importing the Dataset for the project"
   ]
  },
  {
   "cell_type": "code",
   "execution_count": 36,
   "id": "172cfc7d",
   "metadata": {},
   "outputs": [],
   "source": [
    "df = pd.read_excel(\"potato.xlsx\")"
   ]
  },
  {
   "cell_type": "code",
   "execution_count": 37,
   "id": "4a620d38",
   "metadata": {},
   "outputs": [
    {
     "data": {
      "text/html": [
       "<div>\n",
       "<style scoped>\n",
       "    .dataframe tbody tr th:only-of-type {\n",
       "        vertical-align: middle;\n",
       "    }\n",
       "\n",
       "    .dataframe tbody tr th {\n",
       "        vertical-align: top;\n",
       "    }\n",
       "\n",
       "    .dataframe thead th {\n",
       "        text-align: right;\n",
       "    }\n",
       "</style>\n",
       "<table border=\"1\" class=\"dataframe\">\n",
       "  <thead>\n",
       "    <tr style=\"text-align: right;\">\n",
       "      <th></th>\n",
       "      <th>location</th>\n",
       "      <th>soilType</th>\n",
       "      <th>sweetPotato</th>\n",
       "      <th>varietalDescription</th>\n",
       "      <th>varietalCode</th>\n",
       "      <th>fertilizerRegime</th>\n",
       "      <th>fertilizerCode</th>\n",
       "      <th>reps</th>\n",
       "      <th>branchNumber</th>\n",
       "      <th>lengthMainStem(cm)</th>\n",
       "      <th>...</th>\n",
       "      <th>weightAdventitousRoots(Kg)</th>\n",
       "      <th>dryBiomass(Kg)</th>\n",
       "      <th>weightSmallStorageRoots(Kg)</th>\n",
       "      <th>weightMediumStorageRoots(Kg)</th>\n",
       "      <th>weightBigStorageRoots(Kg)</th>\n",
       "      <th>totalWeightStorageRoots(Kg)</th>\n",
       "      <th>weightMarketableStorageRoots(Kg)</th>\n",
       "      <th>totalNumberStorageRoots</th>\n",
       "      <th>totalYield(T/ha)</th>\n",
       "      <th>marketableYield(T/ha)</th>\n",
       "    </tr>\n",
       "  </thead>\n",
       "  <tbody>\n",
       "    <tr>\n",
       "      <th>0</th>\n",
       "      <td>Nkolbisson</td>\n",
       "      <td>Nitisol</td>\n",
       "      <td>WFSP</td>\n",
       "      <td>White-fleshed sweet potato</td>\n",
       "      <td>1</td>\n",
       "      <td>No fertilizer</td>\n",
       "      <td>Control</td>\n",
       "      <td>Rep1</td>\n",
       "      <td>2.0</td>\n",
       "      <td>300.06</td>\n",
       "      <td>...</td>\n",
       "      <td>0.18</td>\n",
       "      <td>1.32</td>\n",
       "      <td>1.25</td>\n",
       "      <td>0.83</td>\n",
       "      <td>0.83</td>\n",
       "      <td>2.91</td>\n",
       "      <td>1.66</td>\n",
       "      <td>31</td>\n",
       "      <td>4.85</td>\n",
       "      <td>2.77</td>\n",
       "    </tr>\n",
       "    <tr>\n",
       "      <th>1</th>\n",
       "      <td>Nkolbisson</td>\n",
       "      <td>Nitisol</td>\n",
       "      <td>WFSP</td>\n",
       "      <td>White-fleshed sweet potato</td>\n",
       "      <td>1</td>\n",
       "      <td>No fertilizer</td>\n",
       "      <td>Control</td>\n",
       "      <td>Rep2</td>\n",
       "      <td>2.0</td>\n",
       "      <td>304.20</td>\n",
       "      <td>...</td>\n",
       "      <td>0.18</td>\n",
       "      <td>1.29</td>\n",
       "      <td>1.33</td>\n",
       "      <td>0.90</td>\n",
       "      <td>0.74</td>\n",
       "      <td>2.97</td>\n",
       "      <td>1.64</td>\n",
       "      <td>24</td>\n",
       "      <td>4.95</td>\n",
       "      <td>2.73</td>\n",
       "    </tr>\n",
       "    <tr>\n",
       "      <th>2</th>\n",
       "      <td>Nkolbisson</td>\n",
       "      <td>Nitisol</td>\n",
       "      <td>WFSP</td>\n",
       "      <td>White-fleshed sweet potato</td>\n",
       "      <td>1</td>\n",
       "      <td>No fertilizer</td>\n",
       "      <td>Control</td>\n",
       "      <td>Rep3</td>\n",
       "      <td>2.5</td>\n",
       "      <td>303.04</td>\n",
       "      <td>...</td>\n",
       "      <td>0.18</td>\n",
       "      <td>1.26</td>\n",
       "      <td>1.44</td>\n",
       "      <td>0.91</td>\n",
       "      <td>0.66</td>\n",
       "      <td>3.01</td>\n",
       "      <td>1.57</td>\n",
       "      <td>30</td>\n",
       "      <td>5.02</td>\n",
       "      <td>2.62</td>\n",
       "    </tr>\n",
       "    <tr>\n",
       "      <th>3</th>\n",
       "      <td>Nkolbisson</td>\n",
       "      <td>Nitisol</td>\n",
       "      <td>WFSP</td>\n",
       "      <td>White-fleshed sweet potato</td>\n",
       "      <td>1</td>\n",
       "      <td>Fast compost</td>\n",
       "      <td>FC</td>\n",
       "      <td>Rep1</td>\n",
       "      <td>3.0</td>\n",
       "      <td>185.67</td>\n",
       "      <td>...</td>\n",
       "      <td>0.12</td>\n",
       "      <td>1.53</td>\n",
       "      <td>2.07</td>\n",
       "      <td>2.41</td>\n",
       "      <td>1.07</td>\n",
       "      <td>5.55</td>\n",
       "      <td>3.48</td>\n",
       "      <td>39</td>\n",
       "      <td>9.25</td>\n",
       "      <td>5.80</td>\n",
       "    </tr>\n",
       "    <tr>\n",
       "      <th>4</th>\n",
       "      <td>Nkolbisson</td>\n",
       "      <td>Nitisol</td>\n",
       "      <td>WFSP</td>\n",
       "      <td>White-fleshed sweet potato</td>\n",
       "      <td>1</td>\n",
       "      <td>Fast compost</td>\n",
       "      <td>FC</td>\n",
       "      <td>Rep2</td>\n",
       "      <td>3.0</td>\n",
       "      <td>187.20</td>\n",
       "      <td>...</td>\n",
       "      <td>0.12</td>\n",
       "      <td>1.55</td>\n",
       "      <td>2.17</td>\n",
       "      <td>2.22</td>\n",
       "      <td>1.12</td>\n",
       "      <td>5.51</td>\n",
       "      <td>3.34</td>\n",
       "      <td>27</td>\n",
       "      <td>9.18</td>\n",
       "      <td>5.57</td>\n",
       "    </tr>\n",
       "  </tbody>\n",
       "</table>\n",
       "<p>5 rows × 22 columns</p>\n",
       "</div>"
      ],
      "text/plain": [
       "     location soilType sweetPotato         varietalDescription  varietalCode  \\\n",
       "0  Nkolbisson  Nitisol        WFSP  White-fleshed sweet potato             1   \n",
       "1  Nkolbisson  Nitisol        WFSP  White-fleshed sweet potato             1   \n",
       "2  Nkolbisson  Nitisol        WFSP  White-fleshed sweet potato             1   \n",
       "3  Nkolbisson  Nitisol        WFSP  White-fleshed sweet potato             1   \n",
       "4  Nkolbisson  Nitisol        WFSP  White-fleshed sweet potato             1   \n",
       "\n",
       "  fertilizerRegime fertilizerCode  reps  branchNumber  lengthMainStem(cm)  \\\n",
       "0    No fertilizer        Control  Rep1           2.0              300.06   \n",
       "1    No fertilizer        Control  Rep2           2.0              304.20   \n",
       "2    No fertilizer        Control  Rep3           2.5              303.04   \n",
       "3     Fast compost             FC  Rep1           3.0              185.67   \n",
       "4     Fast compost             FC  Rep2           3.0              187.20   \n",
       "\n",
       "   ...  weightAdventitousRoots(Kg)  dryBiomass(Kg)  \\\n",
       "0  ...                        0.18            1.32   \n",
       "1  ...                        0.18            1.29   \n",
       "2  ...                        0.18            1.26   \n",
       "3  ...                        0.12            1.53   \n",
       "4  ...                        0.12            1.55   \n",
       "\n",
       "   weightSmallStorageRoots(Kg)  weightMediumStorageRoots(Kg)  \\\n",
       "0                         1.25                          0.83   \n",
       "1                         1.33                          0.90   \n",
       "2                         1.44                          0.91   \n",
       "3                         2.07                          2.41   \n",
       "4                         2.17                          2.22   \n",
       "\n",
       "   weightBigStorageRoots(Kg)  totalWeightStorageRoots(Kg)  \\\n",
       "0                       0.83                         2.91   \n",
       "1                       0.74                         2.97   \n",
       "2                       0.66                         3.01   \n",
       "3                       1.07                         5.55   \n",
       "4                       1.12                         5.51   \n",
       "\n",
       "   weightMarketableStorageRoots(Kg)  totalNumberStorageRoots  \\\n",
       "0                              1.66                       31   \n",
       "1                              1.64                       24   \n",
       "2                              1.57                       30   \n",
       "3                              3.48                       39   \n",
       "4                              3.34                       27   \n",
       "\n",
       "   totalYield(T/ha)  marketableYield(T/ha)  \n",
       "0              4.85                   2.77  \n",
       "1              4.95                   2.73  \n",
       "2              5.02                   2.62  \n",
       "3              9.25                   5.80  \n",
       "4              9.18                   5.57  \n",
       "\n",
       "[5 rows x 22 columns]"
      ]
     },
     "execution_count": 37,
     "metadata": {},
     "output_type": "execute_result"
    }
   ],
   "source": [
    "df.head()"
   ]
  },
  {
   "cell_type": "markdown",
   "id": "d2ae5ff1",
   "metadata": {},
   "source": [
    "# Getting rid of Noises in the dataset"
   ]
  },
  {
   "cell_type": "code",
   "execution_count": 38,
   "id": "7a12e13a",
   "metadata": {},
   "outputs": [],
   "source": [
    "df.drop([\"sweetPotato\", \"varietalDescription\", \"fertilizerRegime\", \"weightSmallStorageRoots(Kg)\", \"weightMediumStorageRoots(Kg)\", \"weightBigStorageRoots(Kg)\"], axis = \"columns\", inplace = True)"
   ]
  },
  {
   "cell_type": "code",
   "execution_count": 39,
   "id": "eb360610",
   "metadata": {},
   "outputs": [
    {
     "data": {
      "text/html": [
       "<div>\n",
       "<style scoped>\n",
       "    .dataframe tbody tr th:only-of-type {\n",
       "        vertical-align: middle;\n",
       "    }\n",
       "\n",
       "    .dataframe tbody tr th {\n",
       "        vertical-align: top;\n",
       "    }\n",
       "\n",
       "    .dataframe thead th {\n",
       "        text-align: right;\n",
       "    }\n",
       "</style>\n",
       "<table border=\"1\" class=\"dataframe\">\n",
       "  <thead>\n",
       "    <tr style=\"text-align: right;\">\n",
       "      <th></th>\n",
       "      <th>location</th>\n",
       "      <th>soilType</th>\n",
       "      <th>varietalCode</th>\n",
       "      <th>fertilizerCode</th>\n",
       "      <th>reps</th>\n",
       "      <th>branchNumber</th>\n",
       "      <th>lengthMainStem(cm)</th>\n",
       "      <th>leafAreaIndex</th>\n",
       "      <th>petoileLength(cm)</th>\n",
       "      <th>weightAdventitousRoots(Kg)</th>\n",
       "      <th>dryBiomass(Kg)</th>\n",
       "      <th>totalWeightStorageRoots(Kg)</th>\n",
       "      <th>weightMarketableStorageRoots(Kg)</th>\n",
       "      <th>totalNumberStorageRoots</th>\n",
       "      <th>totalYield(T/ha)</th>\n",
       "      <th>marketableYield(T/ha)</th>\n",
       "    </tr>\n",
       "  </thead>\n",
       "  <tbody>\n",
       "    <tr>\n",
       "      <th>0</th>\n",
       "      <td>Nkolbisson</td>\n",
       "      <td>Nitisol</td>\n",
       "      <td>1</td>\n",
       "      <td>Control</td>\n",
       "      <td>Rep1</td>\n",
       "      <td>2.0</td>\n",
       "      <td>300.06</td>\n",
       "      <td>1.99</td>\n",
       "      <td>28.04</td>\n",
       "      <td>0.18</td>\n",
       "      <td>1.32</td>\n",
       "      <td>2.91</td>\n",
       "      <td>1.66</td>\n",
       "      <td>31</td>\n",
       "      <td>4.85</td>\n",
       "      <td>2.77</td>\n",
       "    </tr>\n",
       "    <tr>\n",
       "      <th>1</th>\n",
       "      <td>Nkolbisson</td>\n",
       "      <td>Nitisol</td>\n",
       "      <td>1</td>\n",
       "      <td>Control</td>\n",
       "      <td>Rep2</td>\n",
       "      <td>2.0</td>\n",
       "      <td>304.20</td>\n",
       "      <td>2.00</td>\n",
       "      <td>28.02</td>\n",
       "      <td>0.18</td>\n",
       "      <td>1.29</td>\n",
       "      <td>2.97</td>\n",
       "      <td>1.64</td>\n",
       "      <td>24</td>\n",
       "      <td>4.95</td>\n",
       "      <td>2.73</td>\n",
       "    </tr>\n",
       "    <tr>\n",
       "      <th>2</th>\n",
       "      <td>Nkolbisson</td>\n",
       "      <td>Nitisol</td>\n",
       "      <td>1</td>\n",
       "      <td>Control</td>\n",
       "      <td>Rep3</td>\n",
       "      <td>2.5</td>\n",
       "      <td>303.04</td>\n",
       "      <td>2.00</td>\n",
       "      <td>28.01</td>\n",
       "      <td>0.18</td>\n",
       "      <td>1.26</td>\n",
       "      <td>3.01</td>\n",
       "      <td>1.57</td>\n",
       "      <td>30</td>\n",
       "      <td>5.02</td>\n",
       "      <td>2.62</td>\n",
       "    </tr>\n",
       "    <tr>\n",
       "      <th>3</th>\n",
       "      <td>Nkolbisson</td>\n",
       "      <td>Nitisol</td>\n",
       "      <td>1</td>\n",
       "      <td>FC</td>\n",
       "      <td>Rep1</td>\n",
       "      <td>3.0</td>\n",
       "      <td>185.67</td>\n",
       "      <td>4.45</td>\n",
       "      <td>31.91</td>\n",
       "      <td>0.12</td>\n",
       "      <td>1.53</td>\n",
       "      <td>5.55</td>\n",
       "      <td>3.48</td>\n",
       "      <td>39</td>\n",
       "      <td>9.25</td>\n",
       "      <td>5.80</td>\n",
       "    </tr>\n",
       "    <tr>\n",
       "      <th>4</th>\n",
       "      <td>Nkolbisson</td>\n",
       "      <td>Nitisol</td>\n",
       "      <td>1</td>\n",
       "      <td>FC</td>\n",
       "      <td>Rep2</td>\n",
       "      <td>3.0</td>\n",
       "      <td>187.20</td>\n",
       "      <td>4.29</td>\n",
       "      <td>31.88</td>\n",
       "      <td>0.12</td>\n",
       "      <td>1.55</td>\n",
       "      <td>5.51</td>\n",
       "      <td>3.34</td>\n",
       "      <td>27</td>\n",
       "      <td>9.18</td>\n",
       "      <td>5.57</td>\n",
       "    </tr>\n",
       "  </tbody>\n",
       "</table>\n",
       "</div>"
      ],
      "text/plain": [
       "     location soilType  varietalCode fertilizerCode  reps  branchNumber  \\\n",
       "0  Nkolbisson  Nitisol             1        Control  Rep1           2.0   \n",
       "1  Nkolbisson  Nitisol             1        Control  Rep2           2.0   \n",
       "2  Nkolbisson  Nitisol             1        Control  Rep3           2.5   \n",
       "3  Nkolbisson  Nitisol             1             FC  Rep1           3.0   \n",
       "4  Nkolbisson  Nitisol             1             FC  Rep2           3.0   \n",
       "\n",
       "   lengthMainStem(cm)  leafAreaIndex  petoileLength(cm)  \\\n",
       "0              300.06           1.99              28.04   \n",
       "1              304.20           2.00              28.02   \n",
       "2              303.04           2.00              28.01   \n",
       "3              185.67           4.45              31.91   \n",
       "4              187.20           4.29              31.88   \n",
       "\n",
       "   weightAdventitousRoots(Kg)  dryBiomass(Kg)  totalWeightStorageRoots(Kg)  \\\n",
       "0                        0.18            1.32                         2.91   \n",
       "1                        0.18            1.29                         2.97   \n",
       "2                        0.18            1.26                         3.01   \n",
       "3                        0.12            1.53                         5.55   \n",
       "4                        0.12            1.55                         5.51   \n",
       "\n",
       "   weightMarketableStorageRoots(Kg)  totalNumberStorageRoots  \\\n",
       "0                              1.66                       31   \n",
       "1                              1.64                       24   \n",
       "2                              1.57                       30   \n",
       "3                              3.48                       39   \n",
       "4                              3.34                       27   \n",
       "\n",
       "   totalYield(T/ha)  marketableYield(T/ha)  \n",
       "0              4.85                   2.77  \n",
       "1              4.95                   2.73  \n",
       "2              5.02                   2.62  \n",
       "3              9.25                   5.80  \n",
       "4              9.18                   5.57  "
      ]
     },
     "execution_count": 39,
     "metadata": {},
     "output_type": "execute_result"
    }
   ],
   "source": [
    "df.head()"
   ]
  },
  {
   "cell_type": "code",
   "execution_count": 40,
   "id": "34e9a80f",
   "metadata": {},
   "outputs": [
    {
     "name": "stdout",
     "output_type": "stream",
     "text": [
      "The rows and columns in the dataset are (120, 16) respectively.\n"
     ]
    }
   ],
   "source": [
    "print(f\"The rows and columns in the dataset are {df.shape} respectively.\")"
   ]
  },
  {
   "cell_type": "code",
   "execution_count": 41,
   "id": "74b2f570",
   "metadata": {},
   "outputs": [
    {
     "data": {
      "text/plain": [
       "<AxesSubplot:>"
      ]
     },
     "execution_count": 41,
     "metadata": {},
     "output_type": "execute_result"
    },
    {
     "data": {
      "image/png": "[encoded data removed]",
      "text/plain": [
       "<Figure size 432x288 with 1 Axes>"
      ]
     },
     "metadata": {
      "needs_background": "light"
     },
     "output_type": "display_data"
    }
   ],
   "source": [
    "df.plot(kind = \"bar\")"
   ]
  },
  {
   "cell_type": "code",
   "execution_count": 42,
   "id": "a213a6dc",
   "metadata": {},
   "outputs": [
    {
     "name": "stdout",
     "output_type": "stream",
     "text": [
      "<class 'pandas.core.frame.DataFrame'>\n",
      "RangeIndex: 120 entries, 0 to 119\n",
      "Data columns (total 16 columns):\n",
      " #   Column                            Non-Null Count  Dtype  \n",
      "---  ------                            --------------  -----  \n",
      " 0   location                          120 non-null    object \n",
      " 1   soilType                          120 non-null    object \n",
      " 2   varietalCode                      120 non-null    int64  \n",
      " 3   fertilizerCode                    120 non-null    object \n",
      " 4   reps                              120 non-null    object \n",
      " 5   branchNumber                      120 non-null    float64\n",
      " 6   lengthMainStem(cm)                120 non-null    float64\n",
      " 7   leafAreaIndex                     120 non-null    float64\n",
      " 8   petoileLength(cm)                 120 non-null    float64\n",
      " 9   weightAdventitousRoots(Kg)        120 non-null    float64\n",
      " 10  dryBiomass(Kg)                    120 non-null    float64\n",
      " 11  totalWeightStorageRoots(Kg)       120 non-null    float64\n",
      " 12  weightMarketableStorageRoots(Kg)  120 non-null    float64\n",
      " 13  totalNumberStorageRoots           120 non-null    int64  \n",
      " 14  totalYield(T/ha)                  120 non-null    float64\n",
      " 15  marketableYield(T/ha)             120 non-null    float64\n",
      "dtypes: float64(10), int64(2), object(4)\n",
      "memory usage: 15.1+ KB\n"
     ]
    }
   ],
   "source": [
    "df.info()"
   ]
  },
  {
   "cell_type": "code",
   "execution_count": 43,
   "id": "1342ee38",
   "metadata": {},
   "outputs": [
    {
     "data": {
      "text/plain": [
       "array(['Control', 'FC', 'NPK20-10-10', 'PL', 'Tithonia', 'NPK6-15-28',\n",
       "       'RHB', 'FC/NPK20-10-10', 'PL/NPK20-10-10', 'RHB/NPK20-10-10'],\n",
       "      dtype=object)"
      ]
     },
     "execution_count": 43,
     "metadata": {},
     "output_type": "execute_result"
    }
   ],
   "source": [
    "df[\"fertilizerCode\"].unique()"
   ]
  },
  {
   "cell_type": "code",
   "execution_count": 44,
   "id": "48666c8c",
   "metadata": {},
   "outputs": [],
   "source": [
    "df[\"location\"] = df[\"location\"].replace({\"Nkolbisson\": 1, \"Njombe\": 0})"
   ]
  },
  {
   "cell_type": "code",
   "execution_count": 45,
   "id": "99689e4c",
   "metadata": {},
   "outputs": [],
   "source": [
    "df[\"soilType\"] = df[\"soilType\"].replace({\"Nitisol\": 1, \"Andosol\": 0})"
   ]
  },
  {
   "cell_type": "code",
   "execution_count": 46,
   "id": "196aa523",
   "metadata": {},
   "outputs": [],
   "source": [
    "df[\"varietalCode\"] = df[\"varietalCode\"].replace({2: 1, 1: 0})"
   ]
  },
  {
   "cell_type": "code",
   "execution_count": 47,
   "id": "36b6ccb6",
   "metadata": {},
   "outputs": [],
   "source": [
    "df[\"fertilizerCode\"] = le.fit_transform(df[\"fertilizerCode\"])"
   ]
  },
  {
   "cell_type": "code",
   "execution_count": 48,
   "id": "08d9864e",
   "metadata": {},
   "outputs": [],
   "source": [
    "df[\"reps\"] = le.fit_transform(df[\"reps\"])"
   ]
  },
  {
   "cell_type": "code",
   "execution_count": 49,
   "id": "500faa7b",
   "metadata": {},
   "outputs": [
    {
     "name": "stdout",
     "output_type": "stream",
     "text": [
      "<class 'pandas.core.frame.DataFrame'>\n",
      "RangeIndex: 120 entries, 0 to 119\n",
      "Data columns (total 16 columns):\n",
      " #   Column                            Non-Null Count  Dtype  \n",
      "---  ------                            --------------  -----  \n",
      " 0   location                          120 non-null    int64  \n",
      " 1   soilType                          120 non-null    int64  \n",
      " 2   varietalCode                      120 non-null    int64  \n",
      " 3   fertilizerCode                    120 non-null    int32  \n",
      " 4   reps                              120 non-null    int32  \n",
      " 5   branchNumber                      120 non-null    float64\n",
      " 6   lengthMainStem(cm)                120 non-null    float64\n",
      " 7   leafAreaIndex                     120 non-null    float64\n",
      " 8   petoileLength(cm)                 120 non-null    float64\n",
      " 9   weightAdventitousRoots(Kg)        120 non-null    float64\n",
      " 10  dryBiomass(Kg)                    120 non-null    float64\n",
      " 11  totalWeightStorageRoots(Kg)       120 non-null    float64\n",
      " 12  weightMarketableStorageRoots(Kg)  120 non-null    float64\n",
      " 13  totalNumberStorageRoots           120 non-null    int64  \n",
      " 14  totalYield(T/ha)                  120 non-null    float64\n",
      " 15  marketableYield(T/ha)             120 non-null    float64\n",
      "dtypes: float64(10), int32(2), int64(4)\n",
      "memory usage: 14.2 KB\n"
     ]
    }
   ],
   "source": [
    "df.info()"
   ]
  },
  {
   "cell_type": "code",
   "execution_count": 50,
   "id": "2faa126b",
   "metadata": {},
   "outputs": [
    {
     "data": {
      "text/html": [
       "<div>\n",
       "<style scoped>\n",
       "    .dataframe tbody tr th:only-of-type {\n",
       "        vertical-align: middle;\n",
       "    }\n",
       "\n",
       "    .dataframe tbody tr th {\n",
       "        vertical-align: top;\n",
       "    }\n",
       "\n",
       "    .dataframe thead th {\n",
       "        text-align: right;\n",
       "    }\n",
       "</style>\n",
       "<table border=\"1\" class=\"dataframe\">\n",
       "  <thead>\n",
       "    <tr style=\"text-align: right;\">\n",
       "      <th></th>\n",
       "      <th>location</th>\n",
       "      <th>soilType</th>\n",
       "      <th>varietalCode</th>\n",
       "      <th>fertilizerCode</th>\n",
       "      <th>reps</th>\n",
       "      <th>branchNumber</th>\n",
       "      <th>lengthMainStem(cm)</th>\n",
       "      <th>leafAreaIndex</th>\n",
       "      <th>petoileLength(cm)</th>\n",
       "      <th>weightAdventitousRoots(Kg)</th>\n",
       "      <th>dryBiomass(Kg)</th>\n",
       "      <th>totalWeightStorageRoots(Kg)</th>\n",
       "      <th>weightMarketableStorageRoots(Kg)</th>\n",
       "      <th>totalNumberStorageRoots</th>\n",
       "      <th>totalYield(T/ha)</th>\n",
       "      <th>marketableYield(T/ha)</th>\n",
       "    </tr>\n",
       "  </thead>\n",
       "  <tbody>\n",
       "    <tr>\n",
       "      <th>0</th>\n",
       "      <td>1</td>\n",
       "      <td>1</td>\n",
       "      <td>0</td>\n",
       "      <td>0</td>\n",
       "      <td>0</td>\n",
       "      <td>2.0</td>\n",
       "      <td>300.06</td>\n",
       "      <td>1.99</td>\n",
       "      <td>28.04</td>\n",
       "      <td>0.18</td>\n",
       "      <td>1.32</td>\n",
       "      <td>2.91</td>\n",
       "      <td>1.66</td>\n",
       "      <td>31</td>\n",
       "      <td>4.85</td>\n",
       "      <td>2.77</td>\n",
       "    </tr>\n",
       "    <tr>\n",
       "      <th>1</th>\n",
       "      <td>1</td>\n",
       "      <td>1</td>\n",
       "      <td>0</td>\n",
       "      <td>0</td>\n",
       "      <td>1</td>\n",
       "      <td>2.0</td>\n",
       "      <td>304.20</td>\n",
       "      <td>2.00</td>\n",
       "      <td>28.02</td>\n",
       "      <td>0.18</td>\n",
       "      <td>1.29</td>\n",
       "      <td>2.97</td>\n",
       "      <td>1.64</td>\n",
       "      <td>24</td>\n",
       "      <td>4.95</td>\n",
       "      <td>2.73</td>\n",
       "    </tr>\n",
       "  </tbody>\n",
       "</table>\n",
       "</div>"
      ],
      "text/plain": [
       "   location  soilType  varietalCode  fertilizerCode  reps  branchNumber  \\\n",
       "0         1         1             0               0     0           2.0   \n",
       "1         1         1             0               0     1           2.0   \n",
       "\n",
       "   lengthMainStem(cm)  leafAreaIndex  petoileLength(cm)  \\\n",
       "0              300.06           1.99              28.04   \n",
       "1              304.20           2.00              28.02   \n",
       "\n",
       "   weightAdventitousRoots(Kg)  dryBiomass(Kg)  totalWeightStorageRoots(Kg)  \\\n",
       "0                        0.18            1.32                         2.91   \n",
       "1                        0.18            1.29                         2.97   \n",
       "\n",
       "   weightMarketableStorageRoots(Kg)  totalNumberStorageRoots  \\\n",
       "0                              1.66                       31   \n",
       "1                              1.64                       24   \n",
       "\n",
       "   totalYield(T/ha)  marketableYield(T/ha)  \n",
       "0              4.85                   2.77  \n",
       "1              4.95                   2.73  "
      ]
     },
     "execution_count": 50,
     "metadata": {},
     "output_type": "execute_result"
    }
   ],
   "source": [
    "df.head(2)"
   ]
  },
  {
   "cell_type": "markdown",
   "id": "532fb7f2",
   "metadata": {},
   "source": [
    "# Splitting the dataset for training and prediction"
   ]
  },
  {
   "cell_type": "code",
   "execution_count": 51,
   "id": "b82d04d5",
   "metadata": {},
   "outputs": [],
   "source": [
    "X = df.drop(\"marketableYield(T/ha)\", axis = \"columns\")"
   ]
  },
  {
   "cell_type": "code",
   "execution_count": 52,
   "id": "5559e3b3",
   "metadata": {},
   "outputs": [],
   "source": [
    "y = df[\"marketableYield(T/ha)\"]"
   ]
  },
  {
   "cell_type": "code",
   "execution_count": 53,
   "id": "038546b5",
   "metadata": {},
   "outputs": [],
   "source": [
    "X_train, X_test, y_train, y_test = train_test_split(X, y, test_size = 0.3, random_state = 1234)"
   ]
  },
  {
   "cell_type": "markdown",
   "id": "1744c5c0",
   "metadata": {},
   "source": [
    "# Fitting the data set"
   ]
  },
  {
   "cell_type": "markdown",
   "id": "0a6b0887",
   "metadata": {},
   "source": [
    "## LogisticRegression"
   ]
  },
  {
   "cell_type": "code",
   "execution_count": 54,
   "id": "9891f764",
   "metadata": {},
   "outputs": [],
   "source": [
    "log = LinearRegression()"
   ]
  },
  {
   "cell_type": "code",
   "execution_count": 55,
   "id": "4a6401ab",
   "metadata": {},
   "outputs": [
    {
     "data": {
      "text/plain": [
       "LinearRegression()"
      ]
     },
     "execution_count": 55,
     "metadata": {},
     "output_type": "execute_result"
    }
   ],
   "source": [
    "log.fit(X_train, y_train)"
   ]
  },
  {
   "cell_type": "code",
   "execution_count": null,
   "id": "980bcded",
   "metadata": {},
   "outputs": [],
   "source": []
  }
 ],
 "metadata": {
  "kernelspec": {
   "display_name": "Python 3 (ipykernel)",
   "language": "python",
   "name": "python3"
  },
  "language_info": {
   "codemirror_mode": {
    "name": "ipython",
    "version": 3
   },
   "file_extension": ".py",
   "mimetype": "text/x-python",
   "name": "python",
   "nbconvert_exporter": "python",
   "pygments_lexer": "ipython3",
   "version": "3.9.12"
  }
 },
 "nbformat": 4,
 "nbformat_minor": 5
}
