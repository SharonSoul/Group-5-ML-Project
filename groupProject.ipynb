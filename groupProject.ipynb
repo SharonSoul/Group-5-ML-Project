{
 "cells": [
  {
   "cell_type": "markdown",
   "id": "b5db4d9f",
   "metadata": {},
   "source": [
    "# Importing the Necessary Packages/Libraries"
   ]
  },
  {
   "cell_type": "code",
   "execution_count": 1,
   "id": "d1686a17",
   "metadata": {},
   "outputs": [],
   "source": [
    "import pandas as pd\n",
    "import matplotlib.pyplot as plt\n",
    "import seaborn as sns\n",
    "import numpy as np"
   ]
  },
  {
   "cell_type": "markdown",
   "id": "8b8c9759",
   "metadata": {},
   "source": [
    "# Importing the Necessary Algorithms"
   ]
  },
  {
   "cell_type": "code",
   "execution_count": 2,
   "id": "d171bc3a",
   "metadata": {},
   "outputs": [],
   "source": [
    "from sklearn.preprocessing import OneHotEncoder\n",
    "from sklearn.model_selection import train_test_split\n",
    "from sklearn import metrics\n",
    "from sklearn.linear_model import LinearRegression, GammaRegressor, HuberRegressor, PassiveAggressiveRegressor, PoissonRegressor\n",
    "from sklearn.linear_model import QuantileRegressor, RANSACRegressor, TheilSenRegressor, TweedieRegressor\n",
    "from sklearn.ensemble import  AdaBoostRegressor, BaggingRegressor, ExtraTreesRegressor, RandomForestRegressor\n",
    "from sklearn.ensemble import StackingRegressor, VotingRegressor\n",
    "from sklearn.neighbors import KNeighborsRegressor, RadiusNeighborsRegressor\n",
    "from sklearn.tree import DecisionTreeRegressor, ExtraTreeRegressor\n",
    "from sklearn.metrics import mean_absolute_error, mean_squared_error\n",
    "from sklearn.preprocessing import LabelEncoder, LabelBinarizer"
   ]
  },
  {
   "cell_type": "code",
   "execution_count": 3,
   "id": "6f1a0eb9",
   "metadata": {},
   "outputs": [],
   "source": [
    "le = LabelEncoder()"
   ]
  },
  {
   "cell_type": "markdown",
   "id": "3089be83",
   "metadata": {},
   "source": [
    "# Importing the Dataset for the project"
   ]
  },
  {
   "cell_type": "code",
   "execution_count": 4,
   "id": "172cfc7d",
   "metadata": {},
   "outputs": [],
   "source": [
    "df = pd.read_excel(\"potato.xlsx\")"
   ]
  },
  {
   "cell_type": "code",
   "execution_count": 5,
   "id": "4a620d38",
   "metadata": {},
   "outputs": [
    {
     "data": {
      "text/html": [
       "<div>\n",
       "<style scoped>\n",
       "    .dataframe tbody tr th:only-of-type {\n",
       "        vertical-align: middle;\n",
       "    }\n",
       "\n",
       "    .dataframe tbody tr th {\n",
       "        vertical-align: top;\n",
       "    }\n",
       "\n",
       "    .dataframe thead th {\n",
       "        text-align: right;\n",
       "    }\n",
       "</style>\n",
       "<table border=\"1\" class=\"dataframe\">\n",
       "  <thead>\n",
       "    <tr style=\"text-align: right;\">\n",
       "      <th></th>\n",
       "      <th>location</th>\n",
       "      <th>soilType</th>\n",
       "      <th>sweetPotato</th>\n",
       "      <th>varietalDescription</th>\n",
       "      <th>varietalCode</th>\n",
       "      <th>fertilizerRegime</th>\n",
       "      <th>fertilizerCode</th>\n",
       "      <th>reps</th>\n",
       "      <th>branchNumber</th>\n",
       "      <th>lengthMainStem(cm)</th>\n",
       "      <th>...</th>\n",
       "      <th>weightAdventitousRoots(Kg)</th>\n",
       "      <th>dryBiomass(Kg)</th>\n",
       "      <th>weightSmallStorageRoots(Kg)</th>\n",
       "      <th>weightMediumStorageRoots(Kg)</th>\n",
       "      <th>weightBigStorageRoots(Kg)</th>\n",
       "      <th>totalWeightStorageRoots(Kg)</th>\n",
       "      <th>weightMarketableStorageRoots(Kg)</th>\n",
       "      <th>totalNumberStorageRoots</th>\n",
       "      <th>totalYield(T/ha)</th>\n",
       "      <th>marketableYield(T/ha)</th>\n",
       "    </tr>\n",
       "  </thead>\n",
       "  <tbody>\n",
       "    <tr>\n",
       "      <th>0</th>\n",
       "      <td>Nkolbisson</td>\n",
       "      <td>Nitisol</td>\n",
       "      <td>WFSP</td>\n",
       "      <td>White-fleshed sweet potato</td>\n",
       "      <td>1</td>\n",
       "      <td>No fertilizer</td>\n",
       "      <td>Control</td>\n",
       "      <td>Rep1</td>\n",
       "      <td>2.0</td>\n",
       "      <td>300.06</td>\n",
       "      <td>...</td>\n",
       "      <td>0.18</td>\n",
       "      <td>1.32</td>\n",
       "      <td>1.25</td>\n",
       "      <td>0.83</td>\n",
       "      <td>0.83</td>\n",
       "      <td>2.91</td>\n",
       "      <td>1.66</td>\n",
       "      <td>31</td>\n",
       "      <td>4.85</td>\n",
       "      <td>2.77</td>\n",
       "    </tr>\n",
       "    <tr>\n",
       "      <th>1</th>\n",
       "      <td>Nkolbisson</td>\n",
       "      <td>Nitisol</td>\n",
       "      <td>WFSP</td>\n",
       "      <td>White-fleshed sweet potato</td>\n",
       "      <td>1</td>\n",
       "      <td>No fertilizer</td>\n",
       "      <td>Control</td>\n",
       "      <td>Rep2</td>\n",
       "      <td>2.0</td>\n",
       "      <td>304.20</td>\n",
       "      <td>...</td>\n",
       "      <td>0.18</td>\n",
       "      <td>1.29</td>\n",
       "      <td>1.33</td>\n",
       "      <td>0.90</td>\n",
       "      <td>0.74</td>\n",
       "      <td>2.97</td>\n",
       "      <td>1.64</td>\n",
       "      <td>24</td>\n",
       "      <td>4.95</td>\n",
       "      <td>2.73</td>\n",
       "    </tr>\n",
       "    <tr>\n",
       "      <th>2</th>\n",
       "      <td>Nkolbisson</td>\n",
       "      <td>Nitisol</td>\n",
       "      <td>WFSP</td>\n",
       "      <td>White-fleshed sweet potato</td>\n",
       "      <td>1</td>\n",
       "      <td>No fertilizer</td>\n",
       "      <td>Control</td>\n",
       "      <td>Rep3</td>\n",
       "      <td>2.5</td>\n",
       "      <td>303.04</td>\n",
       "      <td>...</td>\n",
       "      <td>0.18</td>\n",
       "      <td>1.26</td>\n",
       "      <td>1.44</td>\n",
       "      <td>0.91</td>\n",
       "      <td>0.66</td>\n",
       "      <td>3.01</td>\n",
       "      <td>1.57</td>\n",
       "      <td>30</td>\n",
       "      <td>5.02</td>\n",
       "      <td>2.62</td>\n",
       "    </tr>\n",
       "    <tr>\n",
       "      <th>3</th>\n",
       "      <td>Nkolbisson</td>\n",
       "      <td>Nitisol</td>\n",
       "      <td>WFSP</td>\n",
       "      <td>White-fleshed sweet potato</td>\n",
       "      <td>1</td>\n",
       "      <td>Fast compost</td>\n",
       "      <td>FC</td>\n",
       "      <td>Rep1</td>\n",
       "      <td>3.0</td>\n",
       "      <td>185.67</td>\n",
       "      <td>...</td>\n",
       "      <td>0.12</td>\n",
       "      <td>1.53</td>\n",
       "      <td>2.07</td>\n",
       "      <td>2.41</td>\n",
       "      <td>1.07</td>\n",
       "      <td>5.55</td>\n",
       "      <td>3.48</td>\n",
       "      <td>39</td>\n",
       "      <td>9.25</td>\n",
       "      <td>5.80</td>\n",
       "    </tr>\n",
       "    <tr>\n",
       "      <th>4</th>\n",
       "      <td>Nkolbisson</td>\n",
       "      <td>Nitisol</td>\n",
       "      <td>WFSP</td>\n",
       "      <td>White-fleshed sweet potato</td>\n",
       "      <td>1</td>\n",
       "      <td>Fast compost</td>\n",
       "      <td>FC</td>\n",
       "      <td>Rep2</td>\n",
       "      <td>3.0</td>\n",
       "      <td>187.20</td>\n",
       "      <td>...</td>\n",
       "      <td>0.12</td>\n",
       "      <td>1.55</td>\n",
       "      <td>2.17</td>\n",
       "      <td>2.22</td>\n",
       "      <td>1.12</td>\n",
       "      <td>5.51</td>\n",
       "      <td>3.34</td>\n",
       "      <td>27</td>\n",
       "      <td>9.18</td>\n",
       "      <td>5.57</td>\n",
       "    </tr>\n",
       "  </tbody>\n",
       "</table>\n",
       "<p>5 rows × 22 columns</p>\n",
       "</div>"
      ],
      "text/plain": [
       "     location soilType sweetPotato         varietalDescription  varietalCode  \\\n",
       "0  Nkolbisson  Nitisol        WFSP  White-fleshed sweet potato             1   \n",
       "1  Nkolbisson  Nitisol        WFSP  White-fleshed sweet potato             1   \n",
       "2  Nkolbisson  Nitisol        WFSP  White-fleshed sweet potato             1   \n",
       "3  Nkolbisson  Nitisol        WFSP  White-fleshed sweet potato             1   \n",
       "4  Nkolbisson  Nitisol        WFSP  White-fleshed sweet potato             1   \n",
       "\n",
       "  fertilizerRegime fertilizerCode  reps  branchNumber  lengthMainStem(cm)  \\\n",
       "0    No fertilizer        Control  Rep1           2.0              300.06   \n",
       "1    No fertilizer        Control  Rep2           2.0              304.20   \n",
       "2    No fertilizer        Control  Rep3           2.5              303.04   \n",
       "3     Fast compost             FC  Rep1           3.0              185.67   \n",
       "4     Fast compost             FC  Rep2           3.0              187.20   \n",
       "\n",
       "   ...  weightAdventitousRoots(Kg)  dryBiomass(Kg)  \\\n",
       "0  ...                        0.18            1.32   \n",
       "1  ...                        0.18            1.29   \n",
       "2  ...                        0.18            1.26   \n",
       "3  ...                        0.12            1.53   \n",
       "4  ...                        0.12            1.55   \n",
       "\n",
       "   weightSmallStorageRoots(Kg)  weightMediumStorageRoots(Kg)  \\\n",
       "0                         1.25                          0.83   \n",
       "1                         1.33                          0.90   \n",
       "2                         1.44                          0.91   \n",
       "3                         2.07                          2.41   \n",
       "4                         2.17                          2.22   \n",
       "\n",
       "   weightBigStorageRoots(Kg)  totalWeightStorageRoots(Kg)  \\\n",
       "0                       0.83                         2.91   \n",
       "1                       0.74                         2.97   \n",
       "2                       0.66                         3.01   \n",
       "3                       1.07                         5.55   \n",
       "4                       1.12                         5.51   \n",
       "\n",
       "   weightMarketableStorageRoots(Kg)  totalNumberStorageRoots  \\\n",
       "0                              1.66                       31   \n",
       "1                              1.64                       24   \n",
       "2                              1.57                       30   \n",
       "3                              3.48                       39   \n",
       "4                              3.34                       27   \n",
       "\n",
       "   totalYield(T/ha)  marketableYield(T/ha)  \n",
       "0              4.85                   2.77  \n",
       "1              4.95                   2.73  \n",
       "2              5.02                   2.62  \n",
       "3              9.25                   5.80  \n",
       "4              9.18                   5.57  \n",
       "\n",
       "[5 rows x 22 columns]"
      ]
     },
     "execution_count": 5,
     "metadata": {},
     "output_type": "execute_result"
    }
   ],
   "source": [
    "df.head(5)"
   ]
  },
  {
   "cell_type": "markdown",
   "id": "d2ae5ff1",
   "metadata": {},
   "source": [
    "# Getting rid of Noises in the dataset"
   ]
  },
  {
   "cell_type": "code",
   "execution_count": 6,
   "id": "7a12e13a",
   "metadata": {},
   "outputs": [],
   "source": [
    "df.drop([\"sweetPotato\", \"varietalDescription\", \"fertilizerRegime\", \"weightSmallStorageRoots(Kg)\", \"weightMediumStorageRoots(Kg)\", \"weightBigStorageRoots(Kg)\"], axis = \"columns\", inplace = True)"
   ]
  },
  {
   "cell_type": "code",
   "execution_count": 7,
   "id": "eb360610",
   "metadata": {},
   "outputs": [
    {
     "data": {
      "text/html": [
       "<div>\n",
       "<style scoped>\n",
       "    .dataframe tbody tr th:only-of-type {\n",
       "        vertical-align: middle;\n",
       "    }\n",
       "\n",
       "    .dataframe tbody tr th {\n",
       "        vertical-align: top;\n",
       "    }\n",
       "\n",
       "    .dataframe thead th {\n",
       "        text-align: right;\n",
       "    }\n",
       "</style>\n",
       "<table border=\"1\" class=\"dataframe\">\n",
       "  <thead>\n",
       "    <tr style=\"text-align: right;\">\n",
       "      <th></th>\n",
       "      <th>location</th>\n",
       "      <th>soilType</th>\n",
       "      <th>varietalCode</th>\n",
       "      <th>fertilizerCode</th>\n",
       "      <th>reps</th>\n",
       "      <th>branchNumber</th>\n",
       "      <th>lengthMainStem(cm)</th>\n",
       "      <th>leafAreaIndex</th>\n",
       "      <th>petoileLength(cm)</th>\n",
       "      <th>weightAdventitousRoots(Kg)</th>\n",
       "      <th>dryBiomass(Kg)</th>\n",
       "      <th>totalWeightStorageRoots(Kg)</th>\n",
       "      <th>weightMarketableStorageRoots(Kg)</th>\n",
       "      <th>totalNumberStorageRoots</th>\n",
       "      <th>totalYield(T/ha)</th>\n",
       "      <th>marketableYield(T/ha)</th>\n",
       "    </tr>\n",
       "  </thead>\n",
       "  <tbody>\n",
       "    <tr>\n",
       "      <th>0</th>\n",
       "      <td>Nkolbisson</td>\n",
       "      <td>Nitisol</td>\n",
       "      <td>1</td>\n",
       "      <td>Control</td>\n",
       "      <td>Rep1</td>\n",
       "      <td>2.0</td>\n",
       "      <td>300.06</td>\n",
       "      <td>1.99</td>\n",
       "      <td>28.04</td>\n",
       "      <td>0.18</td>\n",
       "      <td>1.32</td>\n",
       "      <td>2.91</td>\n",
       "      <td>1.66</td>\n",
       "      <td>31</td>\n",
       "      <td>4.85</td>\n",
       "      <td>2.77</td>\n",
       "    </tr>\n",
       "    <tr>\n",
       "      <th>1</th>\n",
       "      <td>Nkolbisson</td>\n",
       "      <td>Nitisol</td>\n",
       "      <td>1</td>\n",
       "      <td>Control</td>\n",
       "      <td>Rep2</td>\n",
       "      <td>2.0</td>\n",
       "      <td>304.20</td>\n",
       "      <td>2.00</td>\n",
       "      <td>28.02</td>\n",
       "      <td>0.18</td>\n",
       "      <td>1.29</td>\n",
       "      <td>2.97</td>\n",
       "      <td>1.64</td>\n",
       "      <td>24</td>\n",
       "      <td>4.95</td>\n",
       "      <td>2.73</td>\n",
       "    </tr>\n",
       "    <tr>\n",
       "      <th>2</th>\n",
       "      <td>Nkolbisson</td>\n",
       "      <td>Nitisol</td>\n",
       "      <td>1</td>\n",
       "      <td>Control</td>\n",
       "      <td>Rep3</td>\n",
       "      <td>2.5</td>\n",
       "      <td>303.04</td>\n",
       "      <td>2.00</td>\n",
       "      <td>28.01</td>\n",
       "      <td>0.18</td>\n",
       "      <td>1.26</td>\n",
       "      <td>3.01</td>\n",
       "      <td>1.57</td>\n",
       "      <td>30</td>\n",
       "      <td>5.02</td>\n",
       "      <td>2.62</td>\n",
       "    </tr>\n",
       "    <tr>\n",
       "      <th>3</th>\n",
       "      <td>Nkolbisson</td>\n",
       "      <td>Nitisol</td>\n",
       "      <td>1</td>\n",
       "      <td>FC</td>\n",
       "      <td>Rep1</td>\n",
       "      <td>3.0</td>\n",
       "      <td>185.67</td>\n",
       "      <td>4.45</td>\n",
       "      <td>31.91</td>\n",
       "      <td>0.12</td>\n",
       "      <td>1.53</td>\n",
       "      <td>5.55</td>\n",
       "      <td>3.48</td>\n",
       "      <td>39</td>\n",
       "      <td>9.25</td>\n",
       "      <td>5.80</td>\n",
       "    </tr>\n",
       "    <tr>\n",
       "      <th>4</th>\n",
       "      <td>Nkolbisson</td>\n",
       "      <td>Nitisol</td>\n",
       "      <td>1</td>\n",
       "      <td>FC</td>\n",
       "      <td>Rep2</td>\n",
       "      <td>3.0</td>\n",
       "      <td>187.20</td>\n",
       "      <td>4.29</td>\n",
       "      <td>31.88</td>\n",
       "      <td>0.12</td>\n",
       "      <td>1.55</td>\n",
       "      <td>5.51</td>\n",
       "      <td>3.34</td>\n",
       "      <td>27</td>\n",
       "      <td>9.18</td>\n",
       "      <td>5.57</td>\n",
       "    </tr>\n",
       "  </tbody>\n",
       "</table>\n",
       "</div>"
      ],
      "text/plain": [
       "     location soilType  varietalCode fertilizerCode  reps  branchNumber  \\\n",
       "0  Nkolbisson  Nitisol             1        Control  Rep1           2.0   \n",
       "1  Nkolbisson  Nitisol             1        Control  Rep2           2.0   \n",
       "2  Nkolbisson  Nitisol             1        Control  Rep3           2.5   \n",
       "3  Nkolbisson  Nitisol             1             FC  Rep1           3.0   \n",
       "4  Nkolbisson  Nitisol             1             FC  Rep2           3.0   \n",
       "\n",
       "   lengthMainStem(cm)  leafAreaIndex  petoileLength(cm)  \\\n",
       "0              300.06           1.99              28.04   \n",
       "1              304.20           2.00              28.02   \n",
       "2              303.04           2.00              28.01   \n",
       "3              185.67           4.45              31.91   \n",
       "4              187.20           4.29              31.88   \n",
       "\n",
       "   weightAdventitousRoots(Kg)  dryBiomass(Kg)  totalWeightStorageRoots(Kg)  \\\n",
       "0                        0.18            1.32                         2.91   \n",
       "1                        0.18            1.29                         2.97   \n",
       "2                        0.18            1.26                         3.01   \n",
       "3                        0.12            1.53                         5.55   \n",
       "4                        0.12            1.55                         5.51   \n",
       "\n",
       "   weightMarketableStorageRoots(Kg)  totalNumberStorageRoots  \\\n",
       "0                              1.66                       31   \n",
       "1                              1.64                       24   \n",
       "2                              1.57                       30   \n",
       "3                              3.48                       39   \n",
       "4                              3.34                       27   \n",
       "\n",
       "   totalYield(T/ha)  marketableYield(T/ha)  \n",
       "0              4.85                   2.77  \n",
       "1              4.95                   2.73  \n",
       "2              5.02                   2.62  \n",
       "3              9.25                   5.80  \n",
       "4              9.18                   5.57  "
      ]
     },
     "execution_count": 7,
     "metadata": {},
     "output_type": "execute_result"
    }
   ],
   "source": [
    "df.head()"
   ]
  },
  {
   "cell_type": "code",
   "execution_count": 8,
   "id": "34e9a80f",
   "metadata": {},
   "outputs": [
    {
     "name": "stdout",
     "output_type": "stream",
     "text": [
      "The rows and columns in the dataset are (120, 16) respectively.\n"
     ]
    }
   ],
   "source": [
    "print(f\"The rows and columns in the dataset are {df.shape} respectively.\")"
   ]
  },
  {
   "cell_type": "code",
   "execution_count": 9,
   "id": "a213a6dc",
   "metadata": {},
   "outputs": [
    {
     "name": "stdout",
     "output_type": "stream",
     "text": [
      "<class 'pandas.core.frame.DataFrame'>\n",
      "RangeIndex: 120 entries, 0 to 119\n",
      "Data columns (total 16 columns):\n",
      " #   Column                            Non-Null Count  Dtype  \n",
      "---  ------                            --------------  -----  \n",
      " 0   location                          120 non-null    object \n",
      " 1   soilType                          120 non-null    object \n",
      " 2   varietalCode                      120 non-null    int64  \n",
      " 3   fertilizerCode                    120 non-null    object \n",
      " 4   reps                              120 non-null    object \n",
      " 5   branchNumber                      120 non-null    float64\n",
      " 6   lengthMainStem(cm)                120 non-null    float64\n",
      " 7   leafAreaIndex                     120 non-null    float64\n",
      " 8   petoileLength(cm)                 120 non-null    float64\n",
      " 9   weightAdventitousRoots(Kg)        120 non-null    float64\n",
      " 10  dryBiomass(Kg)                    120 non-null    float64\n",
      " 11  totalWeightStorageRoots(Kg)       120 non-null    float64\n",
      " 12  weightMarketableStorageRoots(Kg)  120 non-null    float64\n",
      " 13  totalNumberStorageRoots           120 non-null    int64  \n",
      " 14  totalYield(T/ha)                  120 non-null    float64\n",
      " 15  marketableYield(T/ha)             120 non-null    float64\n",
      "dtypes: float64(10), int64(2), object(4)\n",
      "memory usage: 15.1+ KB\n"
     ]
    }
   ],
   "source": [
    "df.info()"
   ]
  },
  {
   "cell_type": "code",
   "execution_count": 10,
   "id": "beaaf8ab",
   "metadata": {},
   "outputs": [
    {
     "data": {
      "text/plain": [
       "array(['Control', 'FC', 'NPK20-10-10', 'PL', 'Tithonia', 'NPK6-15-28',\n",
       "       'RHB', 'FC/NPK20-10-10', 'PL/NPK20-10-10', 'RHB/NPK20-10-10'],\n",
       "      dtype=object)"
      ]
     },
     "execution_count": 10,
     "metadata": {},
     "output_type": "execute_result"
    }
   ],
   "source": [
    "df[\"fertilizerCode\"].unique()"
   ]
  },
  {
   "cell_type": "code",
   "execution_count": 11,
   "id": "56e62081",
   "metadata": {},
   "outputs": [],
   "source": [
    "df[\"location\"] = df[\"location\"].replace({\"Nkolbisson\": 1, \"Njombe\": 0})"
   ]
  },
  {
   "cell_type": "code",
   "execution_count": 12,
   "id": "f2d6d710",
   "metadata": {},
   "outputs": [],
   "source": [
    "df[\"soilType\"] = df[\"soilType\"].replace({\"Nitisol\": 1, \"Andosol\": 0})"
   ]
  },
  {
   "cell_type": "code",
   "execution_count": 13,
   "id": "82c1d831",
   "metadata": {},
   "outputs": [],
   "source": [
    "df[\"varietalCode\"] = df[\"varietalCode\"].replace({2: 1, 1: 0})"
   ]
  },
  {
   "cell_type": "code",
   "execution_count": 14,
   "id": "8eaff377",
   "metadata": {},
   "outputs": [],
   "source": [
    "df[\"fertilizerCode\"] = le.fit_transform(df[\"fertilizerCode\"])"
   ]
  },
  {
   "cell_type": "code",
   "execution_count": 15,
   "id": "dc7db829",
   "metadata": {},
   "outputs": [],
   "source": [
    "df[\"reps\"] = le.fit_transform(df[\"reps\"])"
   ]
  },
  {
   "cell_type": "code",
   "execution_count": 16,
   "id": "918f3725",
   "metadata": {},
   "outputs": [
    {
     "name": "stdout",
     "output_type": "stream",
     "text": [
      "<class 'pandas.core.frame.DataFrame'>\n",
      "RangeIndex: 120 entries, 0 to 119\n",
      "Data columns (total 16 columns):\n",
      " #   Column                            Non-Null Count  Dtype  \n",
      "---  ------                            --------------  -----  \n",
      " 0   location                          120 non-null    int64  \n",
      " 1   soilType                          120 non-null    int64  \n",
      " 2   varietalCode                      120 non-null    int64  \n",
      " 3   fertilizerCode                    120 non-null    int32  \n",
      " 4   reps                              120 non-null    int32  \n",
      " 5   branchNumber                      120 non-null    float64\n",
      " 6   lengthMainStem(cm)                120 non-null    float64\n",
      " 7   leafAreaIndex                     120 non-null    float64\n",
      " 8   petoileLength(cm)                 120 non-null    float64\n",
      " 9   weightAdventitousRoots(Kg)        120 non-null    float64\n",
      " 10  dryBiomass(Kg)                    120 non-null    float64\n",
      " 11  totalWeightStorageRoots(Kg)       120 non-null    float64\n",
      " 12  weightMarketableStorageRoots(Kg)  120 non-null    float64\n",
      " 13  totalNumberStorageRoots           120 non-null    int64  \n",
      " 14  totalYield(T/ha)                  120 non-null    float64\n",
      " 15  marketableYield(T/ha)             120 non-null    float64\n",
      "dtypes: float64(10), int32(2), int64(4)\n",
      "memory usage: 14.2 KB\n"
     ]
    }
   ],
   "source": [
    "df.info()"
   ]
  },
  {
   "cell_type": "code",
   "execution_count": 17,
   "id": "9e557b76",
   "metadata": {},
   "outputs": [
    {
     "data": {
      "text/html": [
       "<div>\n",
       "<style scoped>\n",
       "    .dataframe tbody tr th:only-of-type {\n",
       "        vertical-align: middle;\n",
       "    }\n",
       "\n",
       "    .dataframe tbody tr th {\n",
       "        vertical-align: top;\n",
       "    }\n",
       "\n",
       "    .dataframe thead th {\n",
       "        text-align: right;\n",
       "    }\n",
       "</style>\n",
       "<table border=\"1\" class=\"dataframe\">\n",
       "  <thead>\n",
       "    <tr style=\"text-align: right;\">\n",
       "      <th></th>\n",
       "      <th>location</th>\n",
       "      <th>soilType</th>\n",
       "      <th>varietalCode</th>\n",
       "      <th>fertilizerCode</th>\n",
       "      <th>reps</th>\n",
       "      <th>branchNumber</th>\n",
       "      <th>lengthMainStem(cm)</th>\n",
       "      <th>leafAreaIndex</th>\n",
       "      <th>petoileLength(cm)</th>\n",
       "      <th>weightAdventitousRoots(Kg)</th>\n",
       "      <th>dryBiomass(Kg)</th>\n",
       "      <th>totalWeightStorageRoots(Kg)</th>\n",
       "      <th>weightMarketableStorageRoots(Kg)</th>\n",
       "      <th>totalNumberStorageRoots</th>\n",
       "      <th>totalYield(T/ha)</th>\n",
       "      <th>marketableYield(T/ha)</th>\n",
       "    </tr>\n",
       "  </thead>\n",
       "  <tbody>\n",
       "    <tr>\n",
       "      <th>0</th>\n",
       "      <td>1</td>\n",
       "      <td>1</td>\n",
       "      <td>0</td>\n",
       "      <td>0</td>\n",
       "      <td>0</td>\n",
       "      <td>2.0</td>\n",
       "      <td>300.06</td>\n",
       "      <td>1.99</td>\n",
       "      <td>28.04</td>\n",
       "      <td>0.18</td>\n",
       "      <td>1.32</td>\n",
       "      <td>2.91</td>\n",
       "      <td>1.66</td>\n",
       "      <td>31</td>\n",
       "      <td>4.85</td>\n",
       "      <td>2.77</td>\n",
       "    </tr>\n",
       "    <tr>\n",
       "      <th>1</th>\n",
       "      <td>1</td>\n",
       "      <td>1</td>\n",
       "      <td>0</td>\n",
       "      <td>0</td>\n",
       "      <td>1</td>\n",
       "      <td>2.0</td>\n",
       "      <td>304.20</td>\n",
       "      <td>2.00</td>\n",
       "      <td>28.02</td>\n",
       "      <td>0.18</td>\n",
       "      <td>1.29</td>\n",
       "      <td>2.97</td>\n",
       "      <td>1.64</td>\n",
       "      <td>24</td>\n",
       "      <td>4.95</td>\n",
       "      <td>2.73</td>\n",
       "    </tr>\n",
       "  </tbody>\n",
       "</table>\n",
       "</div>"
      ],
      "text/plain": [
       "   location  soilType  varietalCode  fertilizerCode  reps  branchNumber  \\\n",
       "0         1         1             0               0     0           2.0   \n",
       "1         1         1             0               0     1           2.0   \n",
       "\n",
       "   lengthMainStem(cm)  leafAreaIndex  petoileLength(cm)  \\\n",
       "0              300.06           1.99              28.04   \n",
       "1              304.20           2.00              28.02   \n",
       "\n",
       "   weightAdventitousRoots(Kg)  dryBiomass(Kg)  totalWeightStorageRoots(Kg)  \\\n",
       "0                        0.18            1.32                         2.91   \n",
       "1                        0.18            1.29                         2.97   \n",
       "\n",
       "   weightMarketableStorageRoots(Kg)  totalNumberStorageRoots  \\\n",
       "0                              1.66                       31   \n",
       "1                              1.64                       24   \n",
       "\n",
       "   totalYield(T/ha)  marketableYield(T/ha)  \n",
       "0              4.85                   2.77  \n",
       "1              4.95                   2.73  "
      ]
     },
     "execution_count": 17,
     "metadata": {},
     "output_type": "execute_result"
    }
   ],
   "source": [
    "df.head(2)"
   ]
  },
  {
   "cell_type": "markdown",
   "id": "83b32e68",
   "metadata": {},
   "source": [
    "# Splitting the dataset for training and prediction"
   ]
  },
  {
   "cell_type": "code",
   "execution_count": 18,
   "id": "3c2caa53",
   "metadata": {},
   "outputs": [],
   "source": [
    "X = df.drop([\"marketableYield(T/ha)\", \"totalYield(T/ha)\"\n",
    "], axis = \"columns\")"
   ]
  },
  {
   "cell_type": "code",
   "execution_count": 19,
   "id": "379378be",
   "metadata": {},
   "outputs": [],
   "source": [
    "y = df[\"marketableYield(T/ha)\"]"
   ]
  },
  {
   "cell_type": "code",
   "execution_count": 20,
   "id": "5ca0f044",
   "metadata": {},
   "outputs": [],
   "source": [
    "X_train, X_test, y_train, y_test = train_test_split(X, y, test_size = 0.3, random_state = 1234)"
   ]
  },
  {
   "cell_type": "markdown",
   "id": "950badd2",
   "metadata": {},
   "source": [
    "# Fitting the data set"
   ]
  },
  {
   "cell_type": "markdown",
   "id": "7f16987f",
   "metadata": {},
   "source": [
    "## LinearRegression"
   ]
  },
  {
   "cell_type": "code",
   "execution_count": 21,
   "id": "cc7e4975",
   "metadata": {},
   "outputs": [],
   "source": [
    "log = LinearRegression()"
   ]
  },
  {
   "cell_type": "code",
   "execution_count": 22,
   "id": "f52a2a96",
   "metadata": {},
   "outputs": [
    {
     "data": {
      "text/plain": [
       "LinearRegression()"
      ]
     },
     "execution_count": 22,
     "metadata": {},
     "output_type": "execute_result"
    }
   ],
   "source": [
    "log.fit(X_train, y_train)"
   ]
  },
  {
   "cell_type": "code",
   "execution_count": 23,
   "id": "ce764a28",
   "metadata": {},
   "outputs": [],
   "source": [
    "logFit = log.fit(X_train, y_train)"
   ]
  },
  {
   "cell_type": "code",
   "execution_count": 24,
   "id": "88ba84bc",
   "metadata": {
    "scrolled": true
   },
   "outputs": [
    {
     "data": {
      "text/plain": [
       "array([18.28257437, 21.59809084, 11.01640824,  9.00022581, 11.49924929,\n",
       "        8.33449961,  8.56641175, 12.99891914,  9.83435872, 16.83629637,\n",
       "        4.93110546,  4.66575177,  4.69984531,  1.86652872,  8.5003905 ,\n",
       "       10.83138142,  7.6647073 ,  8.48324645, 16.83519756, 26.99786654,\n",
       "       24.33390871, 21.29799634,  4.99713363,  2.73789633, 17.66779693,\n",
       "       18.91616771,  5.69950256, 13.33359317,  9.34767787, 15.33259821,\n",
       "       12.46681621,  9.33017964,  6.46839625, 26.49925119, 18.86538991,\n",
       "        8.66678648])"
      ]
     },
     "execution_count": 24,
     "metadata": {},
     "output_type": "execute_result"
    }
   ],
   "source": [
    "log.predict(X_test)"
   ]
  },
  {
   "cell_type": "code",
   "execution_count": 25,
   "id": "3a0bff3e",
   "metadata": {},
   "outputs": [],
   "source": [
    "logPred = log.predict(X_test)"
   ]
  },
  {
   "cell_type": "markdown",
   "id": "7ada02a5",
   "metadata": {},
   "source": [
    "### Evaluation"
   ]
  },
  {
   "cell_type": "code",
   "execution_count": 26,
   "id": "ce0438f6",
   "metadata": {},
   "outputs": [
    {
     "data": {
      "text/plain": [
       "0.0027988434620265603"
      ]
     },
     "execution_count": 26,
     "metadata": {},
     "output_type": "execute_result"
    }
   ],
   "source": [
    "mean_absolute_error(y_test, logPred)"
   ]
  },
  {
   "cell_type": "code",
   "execution_count": 27,
   "id": "c3ae629e",
   "metadata": {
    "scrolled": false
   },
   "outputs": [
    {
     "data": {
      "text/plain": [
       "1.1106285946288163e-05"
      ]
     },
     "execution_count": 27,
     "metadata": {},
     "output_type": "execute_result"
    }
   ],
   "source": [
    "mean_squared_error(y_test, logPred)"
   ]
  },
  {
   "cell_type": "code",
   "execution_count": null,
   "id": "bc1584ae",
   "metadata": {},
   "outputs": [],
   "source": []
  },
  {
   "cell_type": "markdown",
   "id": "3d311464",
   "metadata": {},
   "source": [
    "## GammaRegressor"
   ]
  },
  {
   "cell_type": "code",
   "execution_count": 28,
   "id": "2baac1b9",
   "metadata": {},
   "outputs": [],
   "source": [
    "gamma = GammaRegressor()"
   ]
  },
  {
   "cell_type": "code",
   "execution_count": 29,
   "id": "ac42251a",
   "metadata": {},
   "outputs": [
    {
     "name": "stderr",
     "output_type": "stream",
     "text": [
      "C:\\Users\\mojja\\anaconda3\\lib\\site-packages\\sklearn\\linear_model\\_glm\\glm.py:323: ConvergenceWarning: lbfgs failed to converge (status=1):\n",
      "STOP: TOTAL NO. of ITERATIONS REACHED LIMIT.\n",
      "\n",
      "Increase the number of iterations (max_iter) or scale the data as shown in:\n",
      "    https://scikit-learn.org/stable/modules/preprocessing.html\n",
      "  self.n_iter_ = _check_optimize_result(\"lbfgs\", opt_res)\n"
     ]
    }
   ],
   "source": [
    "gammaFit = gamma.fit(X_train, y_train)"
   ]
  },
  {
   "cell_type": "code",
   "execution_count": 30,
   "id": "9583bcaf",
   "metadata": {},
   "outputs": [
    {
     "name": "stderr",
     "output_type": "stream",
     "text": [
      "C:\\Users\\mojja\\anaconda3\\lib\\site-packages\\sklearn\\linear_model\\_glm\\glm.py:323: ConvergenceWarning: lbfgs failed to converge (status=1):\n",
      "STOP: TOTAL NO. of ITERATIONS REACHED LIMIT.\n",
      "\n",
      "Increase the number of iterations (max_iter) or scale the data as shown in:\n",
      "    https://scikit-learn.org/stable/modules/preprocessing.html\n",
      "  self.n_iter_ = _check_optimize_result(\"lbfgs\", opt_res)\n"
     ]
    },
    {
     "data": {
      "text/plain": [
       "GammaRegressor()"
      ]
     },
     "execution_count": 30,
     "metadata": {},
     "output_type": "execute_result"
    }
   ],
   "source": [
    "gamma.fit(X_train, y_train)"
   ]
  },
  {
   "cell_type": "code",
   "execution_count": 31,
   "id": "b6a57d89",
   "metadata": {},
   "outputs": [],
   "source": [
    "gammaPred = gamma.predict(X_test)"
   ]
  },
  {
   "cell_type": "code",
   "execution_count": 32,
   "id": "4c0d8835",
   "metadata": {},
   "outputs": [
    {
     "data": {
      "text/plain": [
       "array([16.43041318, 22.69579082, 11.07595074,  8.89734376, 11.84708999,\n",
       "        7.45134989,  7.93376985, 11.35912746,  8.76121148, 14.52535315,\n",
       "        5.51254058,  5.68596688,  5.75930234,  4.41777736,  8.43456679,\n",
       "       10.98548545,  7.71383512,  7.70360057, 13.90549802, 33.57628483,\n",
       "       29.30026389, 21.50447153,  7.37558218,  3.99810858, 16.92489973,\n",
       "       20.34641765,  6.41286392, 12.39988661,  8.81164594, 14.25121788,\n",
       "       11.44421503,  8.10788341,  6.47553238, 32.19078528, 20.05937912,\n",
       "        8.03071115])"
      ]
     },
     "execution_count": 32,
     "metadata": {},
     "output_type": "execute_result"
    }
   ],
   "source": [
    "gamma.predict(X_test)"
   ]
  },
  {
   "cell_type": "markdown",
   "id": "08316b0d",
   "metadata": {},
   "source": [
    "### Evaluation"
   ]
  },
  {
   "cell_type": "code",
   "execution_count": 33,
   "id": "7eb73269",
   "metadata": {},
   "outputs": [
    {
     "data": {
      "text/plain": [
       "1.3819648535860174"
      ]
     },
     "execution_count": 33,
     "metadata": {},
     "output_type": "execute_result"
    }
   ],
   "source": [
    "mean_absolute_error(y_test, gammaPred)"
   ]
  },
  {
   "cell_type": "code",
   "execution_count": 34,
   "id": "412b5463",
   "metadata": {},
   "outputs": [
    {
     "data": {
      "text/plain": [
       "4.185134014132596"
      ]
     },
     "execution_count": 34,
     "metadata": {},
     "output_type": "execute_result"
    }
   ],
   "source": [
    "mean_squared_error(y_test, gammaPred)"
   ]
  },
  {
   "cell_type": "code",
   "execution_count": null,
   "id": "f7c93ae7",
   "metadata": {},
   "outputs": [],
   "source": []
  },
  {
   "cell_type": "markdown",
   "id": "0003b7b9",
   "metadata": {},
   "source": [
    " ## HuberRegressor"
   ]
  },
  {
   "cell_type": "code",
   "execution_count": 35,
   "id": "abc618a6",
   "metadata": {},
   "outputs": [],
   "source": [
    "huber = HuberRegressor()"
   ]
  },
  {
   "cell_type": "code",
   "execution_count": 36,
   "id": "644b21e8",
   "metadata": {
    "scrolled": true
   },
   "outputs": [
    {
     "name": "stderr",
     "output_type": "stream",
     "text": [
      "C:\\Users\\mojja\\anaconda3\\lib\\site-packages\\sklearn\\linear_model\\_huber.py:332: ConvergenceWarning: lbfgs failed to converge (status=1):\n",
      "STOP: TOTAL NO. of ITERATIONS REACHED LIMIT.\n",
      "\n",
      "Increase the number of iterations (max_iter) or scale the data as shown in:\n",
      "    https://scikit-learn.org/stable/modules/preprocessing.html\n",
      "  self.n_iter_ = _check_optimize_result(\"lbfgs\", opt_res, self.max_iter)\n"
     ]
    }
   ],
   "source": [
    "huberFit = huber.fit(X_train, y_train)"
   ]
  },
  {
   "cell_type": "code",
   "execution_count": 37,
   "id": "967e3557",
   "metadata": {},
   "outputs": [
    {
     "name": "stderr",
     "output_type": "stream",
     "text": [
      "C:\\Users\\mojja\\anaconda3\\lib\\site-packages\\sklearn\\linear_model\\_huber.py:332: ConvergenceWarning: lbfgs failed to converge (status=1):\n",
      "STOP: TOTAL NO. of ITERATIONS REACHED LIMIT.\n",
      "\n",
      "Increase the number of iterations (max_iter) or scale the data as shown in:\n",
      "    https://scikit-learn.org/stable/modules/preprocessing.html\n",
      "  self.n_iter_ = _check_optimize_result(\"lbfgs\", opt_res, self.max_iter)\n"
     ]
    },
    {
     "data": {
      "text/plain": [
       "HuberRegressor()"
      ]
     },
     "execution_count": 37,
     "metadata": {},
     "output_type": "execute_result"
    }
   ],
   "source": [
    "huber.fit(X_train, y_train)"
   ]
  },
  {
   "cell_type": "code",
   "execution_count": 38,
   "id": "015921ed",
   "metadata": {},
   "outputs": [],
   "source": [
    "huberPred = huber.predict(X_test)"
   ]
  },
  {
   "cell_type": "code",
   "execution_count": 39,
   "id": "8f9370be",
   "metadata": {},
   "outputs": [
    {
     "data": {
      "text/plain": [
       "array([18.21801391, 21.50932836, 10.9448451 ,  8.96153862, 11.52428952,\n",
       "        8.42581242,  8.49182239, 13.12216337,  9.80597944, 16.89447705,\n",
       "        4.93450151,  4.70239275,  4.67781596,  2.09125401,  8.54540743,\n",
       "       10.8246946 ,  7.70214127,  8.48629269, 16.91384118, 26.94432838,\n",
       "       24.29406023, 21.27482853,  4.93460339,  2.7267311 , 17.62624354,\n",
       "       18.87236293,  5.60956778, 13.32990082,  9.39238702, 15.30891964,\n",
       "       12.43588933,  9.4473065 ,  6.46178349, 26.50836656, 18.78069202,\n",
       "        8.56723615])"
      ]
     },
     "execution_count": 39,
     "metadata": {},
     "output_type": "execute_result"
    }
   ],
   "source": [
    "huber.predict(X_test)"
   ]
  },
  {
   "cell_type": "markdown",
   "id": "dd909487",
   "metadata": {},
   "source": [
    "### Evaluation"
   ]
  },
  {
   "cell_type": "code",
   "execution_count": 40,
   "id": "fb366f99",
   "metadata": {},
   "outputs": [
    {
     "data": {
      "text/plain": [
       "0.0533179884786705"
      ]
     },
     "execution_count": 40,
     "metadata": {},
     "output_type": "execute_result"
    }
   ],
   "source": [
    "mean_absolute_error(y_test, huberPred)"
   ]
  },
  {
   "cell_type": "code",
   "execution_count": 41,
   "id": "8fd461ac",
   "metadata": {},
   "outputs": [
    {
     "data": {
      "text/plain": [
       "0.00480420044611966"
      ]
     },
     "execution_count": 41,
     "metadata": {},
     "output_type": "execute_result"
    }
   ],
   "source": [
    "mean_squared_error(y_test, huberPred)"
   ]
  },
  {
   "cell_type": "code",
   "execution_count": null,
   "id": "614be183",
   "metadata": {},
   "outputs": [],
   "source": []
  },
  {
   "cell_type": "markdown",
   "id": "ebd01a84",
   "metadata": {},
   "source": [
    "## PassiveAggressiveRegressor"
   ]
  },
  {
   "cell_type": "code",
   "execution_count": 42,
   "id": "2f53aea2",
   "metadata": {},
   "outputs": [],
   "source": [
    "passive = PassiveAggressiveRegressor()"
   ]
  },
  {
   "cell_type": "code",
   "execution_count": 43,
   "id": "01ce087a",
   "metadata": {},
   "outputs": [],
   "source": [
    "passiveFit = passive.fit(X_train, y_train)"
   ]
  },
  {
   "cell_type": "code",
   "execution_count": 44,
   "id": "5a177740",
   "metadata": {
    "scrolled": true
   },
   "outputs": [
    {
     "data": {
      "text/plain": [
       "PassiveAggressiveRegressor()"
      ]
     },
     "execution_count": 44,
     "metadata": {},
     "output_type": "execute_result"
    }
   ],
   "source": [
    "passive.fit(X_train, y_train)"
   ]
  },
  {
   "cell_type": "code",
   "execution_count": 45,
   "id": "9ee6013d",
   "metadata": {},
   "outputs": [],
   "source": [
    "passivePred = passive.predict(X_test)"
   ]
  },
  {
   "cell_type": "code",
   "execution_count": 46,
   "id": "fd80ec6b",
   "metadata": {},
   "outputs": [
    {
     "data": {
      "text/plain": [
       "array([17.44841748, 21.21902024, 11.33603242,  8.47284755, 10.86908786,\n",
       "        6.99728288,  7.70898952, 12.39386353,  8.83290045, 15.24225065,\n",
       "        4.1387388 ,  4.77044481,  4.58162458,  2.39162397,  8.15579061,\n",
       "       10.42515232,  8.1117467 ,  7.53244042, 15.51973115, 25.66639982,\n",
       "       23.49531968, 20.82265213,  5.66416394,  0.15813481, 16.8050795 ,\n",
       "       19.3352007 ,  5.36662592, 13.00009759,  9.87503498, 14.84007481,\n",
       "       12.49761523,  8.2106681 ,  5.80777556, 24.91934329, 19.2981758 ,\n",
       "        7.96586117])"
      ]
     },
     "execution_count": 46,
     "metadata": {},
     "output_type": "execute_result"
    }
   ],
   "source": [
    "passive.predict(X_test)"
   ]
  },
  {
   "cell_type": "markdown",
   "id": "bfd7d704",
   "metadata": {},
   "source": [
    "### Evaluation"
   ]
  },
  {
   "cell_type": "code",
   "execution_count": 47,
   "id": "2e30a0be",
   "metadata": {},
   "outputs": [
    {
     "data": {
      "text/plain": [
       "0.7337185590169034"
      ]
     },
     "execution_count": 47,
     "metadata": {},
     "output_type": "execute_result"
    }
   ],
   "source": [
    "mean_absolute_error(y_test, passivePred)"
   ]
  },
  {
   "cell_type": "code",
   "execution_count": 48,
   "id": "fe75cdfa",
   "metadata": {},
   "outputs": [
    {
     "data": {
      "text/plain": [
       "0.7864339515756948"
      ]
     },
     "execution_count": 48,
     "metadata": {},
     "output_type": "execute_result"
    }
   ],
   "source": [
    "mean_squared_error(y_test, passivePred)"
   ]
  },
  {
   "cell_type": "code",
   "execution_count": null,
   "id": "b58e4ede",
   "metadata": {},
   "outputs": [],
   "source": []
  },
  {
   "cell_type": "markdown",
   "id": "6e8b7f03",
   "metadata": {},
   "source": [
    "## PoissonRegressor"
   ]
  },
  {
   "cell_type": "code",
   "execution_count": 49,
   "id": "ca48826f",
   "metadata": {},
   "outputs": [],
   "source": [
    "poison = PoissonRegressor()"
   ]
  },
  {
   "cell_type": "code",
   "execution_count": 50,
   "id": "e49811fe",
   "metadata": {},
   "outputs": [
    {
     "name": "stderr",
     "output_type": "stream",
     "text": [
      "C:\\Users\\mojja\\anaconda3\\lib\\site-packages\\sklearn\\linear_model\\_glm\\glm.py:323: ConvergenceWarning: lbfgs failed to converge (status=1):\n",
      "STOP: TOTAL NO. of ITERATIONS REACHED LIMIT.\n",
      "\n",
      "Increase the number of iterations (max_iter) or scale the data as shown in:\n",
      "    https://scikit-learn.org/stable/modules/preprocessing.html\n",
      "  self.n_iter_ = _check_optimize_result(\"lbfgs\", opt_res)\n"
     ]
    }
   ],
   "source": [
    "poisonFit = poison.fit(X_train, y_train)"
   ]
  },
  {
   "cell_type": "code",
   "execution_count": 51,
   "id": "82ef1528",
   "metadata": {},
   "outputs": [
    {
     "name": "stderr",
     "output_type": "stream",
     "text": [
      "C:\\Users\\mojja\\anaconda3\\lib\\site-packages\\sklearn\\linear_model\\_glm\\glm.py:323: ConvergenceWarning: lbfgs failed to converge (status=1):\n",
      "STOP: TOTAL NO. of ITERATIONS REACHED LIMIT.\n",
      "\n",
      "Increase the number of iterations (max_iter) or scale the data as shown in:\n",
      "    https://scikit-learn.org/stable/modules/preprocessing.html\n",
      "  self.n_iter_ = _check_optimize_result(\"lbfgs\", opt_res)\n"
     ]
    },
    {
     "data": {
      "text/plain": [
       "PoissonRegressor()"
      ]
     },
     "execution_count": 51,
     "metadata": {},
     "output_type": "execute_result"
    }
   ],
   "source": [
    "poison.fit(X_train, y_train)"
   ]
  },
  {
   "cell_type": "code",
   "execution_count": 52,
   "id": "5e0ec617",
   "metadata": {},
   "outputs": [],
   "source": [
    "poisonPred = poison.predict(X_test)"
   ]
  },
  {
   "cell_type": "code",
   "execution_count": 53,
   "id": "53e5fe46",
   "metadata": {},
   "outputs": [
    {
     "data": {
      "text/plain": [
       "array([16.69335571, 20.98942208, 11.05612724,  8.67059305, 11.46021602,\n",
       "        7.36028562,  7.54217064, 12.45503   ,  8.75209426, 14.88036567,\n",
       "        6.17052387,  5.825454  ,  5.73893627,  4.75984233,  7.94008206,\n",
       "       11.73163591,  8.27338466,  7.22343782, 14.96005571, 32.08087812,\n",
       "       26.91467052, 19.4403316 ,  7.77250917,  4.19235091, 16.93464809,\n",
       "       17.26985366,  6.42683979, 12.6507909 ,  9.5183034 , 15.12728443,\n",
       "       11.37023186,  8.91572991,  6.24373011, 29.63909375, 17.54346856,\n",
       "        7.99153373])"
      ]
     },
     "execution_count": 53,
     "metadata": {},
     "output_type": "execute_result"
    }
   ],
   "source": [
    "poison.predict(X_test)"
   ]
  },
  {
   "cell_type": "markdown",
   "id": "e1545b18",
   "metadata": {},
   "source": [
    "### Evaluation"
   ]
  },
  {
   "cell_type": "code",
   "execution_count": 54,
   "id": "1e2a060a",
   "metadata": {},
   "outputs": [
    {
     "data": {
      "text/plain": [
       "1.2359955126567184"
      ]
     },
     "execution_count": 54,
     "metadata": {},
     "output_type": "execute_result"
    }
   ],
   "source": [
    "mean_absolute_error(y_test, poisonPred)"
   ]
  },
  {
   "cell_type": "code",
   "execution_count": 55,
   "id": "75d0a260",
   "metadata": {},
   "outputs": [
    {
     "data": {
      "text/plain": [
       "0.7864339515756948"
      ]
     },
     "execution_count": 55,
     "metadata": {},
     "output_type": "execute_result"
    }
   ],
   "source": [
    "mean_squared_error(y_test, passivePred)"
   ]
  },
  {
   "cell_type": "code",
   "execution_count": null,
   "id": "4c0f9e60",
   "metadata": {},
   "outputs": [],
   "source": [
    " "
   ]
  },
  {
   "cell_type": "markdown",
   "id": "a0bf5e6d",
   "metadata": {},
   "source": [
    "## QuantileRegressor"
   ]
  },
  {
   "cell_type": "code",
   "execution_count": 56,
   "id": "e40442f7",
   "metadata": {},
   "outputs": [],
   "source": [
    "quant = QuantileRegressor()"
   ]
  },
  {
   "cell_type": "code",
   "execution_count": 57,
   "id": "1170e0bc",
   "metadata": {},
   "outputs": [],
   "source": [
    "quantFit = quant.fit(X_train, y_train)"
   ]
  },
  {
   "cell_type": "code",
   "execution_count": 58,
   "id": "8cffda7e",
   "metadata": {},
   "outputs": [
    {
     "data": {
      "text/plain": [
       "QuantileRegressor()"
      ]
     },
     "execution_count": 58,
     "metadata": {},
     "output_type": "execute_result"
    }
   ],
   "source": [
    "quant.fit(X_train, y_train)"
   ]
  },
  {
   "cell_type": "code",
   "execution_count": 59,
   "id": "c202122e",
   "metadata": {},
   "outputs": [],
   "source": [
    "quantPred = quant.predict(X_test)"
   ]
  },
  {
   "cell_type": "code",
   "execution_count": 60,
   "id": "9678be03",
   "metadata": {},
   "outputs": [
    {
     "data": {
      "text/plain": [
       "array([11.57222248, 11.10171932, 11.86371825,  8.7798287 , 13.71868895,\n",
       "        7.6886695 ,  7.86622262, 10.63437753,  7.3183456 , 10.913459  ,\n",
       "        6.95885519,  6.33094861,  7.25089909, 10.34570621,  8.21635463,\n",
       "       11.28494187,  5.89427389,  7.79418127,  9.17228303, 10.94172319,\n",
       "       12.81829813, 11.34952231, 11.77355042,  2.69867638, 10.39422556,\n",
       "       13.52960685,  6.38380996, 11.28102172, 10.91065564, 11.8619265 ,\n",
       "       11.04637101,  8.63890738,  7.00672151, 12.16712239, 12.6317241 ,\n",
       "        9.67568796])"
      ]
     },
     "execution_count": 60,
     "metadata": {},
     "output_type": "execute_result"
    }
   ],
   "source": [
    "quant.predict(X_test)"
   ]
  },
  {
   "cell_type": "markdown",
   "id": "9fa24406",
   "metadata": {},
   "source": [
    "### Evaluation"
   ]
  },
  {
   "cell_type": "code",
   "execution_count": 61,
   "id": "60c1ead4",
   "metadata": {},
   "outputs": [
    {
     "data": {
      "text/plain": [
       "4.088420015255931"
      ]
     },
     "execution_count": 61,
     "metadata": {},
     "output_type": "execute_result"
    }
   ],
   "source": [
    "mean_absolute_error(y_test, quantPred)"
   ]
  },
  {
   "cell_type": "code",
   "execution_count": 62,
   "id": "ef9e1843",
   "metadata": {},
   "outputs": [
    {
     "data": {
      "text/plain": [
       "2.5760433763847286"
      ]
     },
     "execution_count": 62,
     "metadata": {},
     "output_type": "execute_result"
    }
   ],
   "source": [
    "mean_squared_error(y_test, poisonPred)"
   ]
  },
  {
   "cell_type": "code",
   "execution_count": null,
   "id": "81f65f76",
   "metadata": {},
   "outputs": [],
   "source": []
  },
  {
   "cell_type": "markdown",
   "id": "62fa2916",
   "metadata": {},
   "source": [
    "## RANSACRegressor"
   ]
  },
  {
   "cell_type": "code",
   "execution_count": 63,
   "id": "04f19e2e",
   "metadata": {},
   "outputs": [],
   "source": [
    "ran = RANSACRegressor()"
   ]
  },
  {
   "cell_type": "code",
   "execution_count": 64,
   "id": "b20a5a40",
   "metadata": {},
   "outputs": [],
   "source": [
    "ranFit = ran.fit(X_train, y_train)"
   ]
  },
  {
   "cell_type": "code",
   "execution_count": 65,
   "id": "0b72162b",
   "metadata": {},
   "outputs": [
    {
     "data": {
      "text/plain": [
       "RANSACRegressor()"
      ]
     },
     "execution_count": 65,
     "metadata": {},
     "output_type": "execute_result"
    }
   ],
   "source": [
    "ran.fit(X_train, y_train)"
   ]
  },
  {
   "cell_type": "code",
   "execution_count": 66,
   "id": "ec4f2445",
   "metadata": {},
   "outputs": [],
   "source": [
    "ranPred = ran.predict(X_test)"
   ]
  },
  {
   "cell_type": "code",
   "execution_count": 67,
   "id": "d4c38e88",
   "metadata": {},
   "outputs": [
    {
     "data": {
      "text/plain": [
       "array([18.28257437, 21.59809084, 11.01640824,  9.00022581, 11.49924929,\n",
       "        8.33449961,  8.56641175, 12.99891914,  9.83435872, 16.83629637,\n",
       "        4.93110546,  4.66575177,  4.69984531,  1.86652872,  8.5003905 ,\n",
       "       10.83138142,  7.6647073 ,  8.48324645, 16.83519756, 26.99786654,\n",
       "       24.33390871, 21.29799634,  4.99713363,  2.73789633, 17.66779693,\n",
       "       18.91616771,  5.69950256, 13.33359317,  9.34767787, 15.33259821,\n",
       "       12.46681621,  9.33017964,  6.46839625, 26.49925119, 18.86538991,\n",
       "        8.66678648])"
      ]
     },
     "execution_count": 67,
     "metadata": {},
     "output_type": "execute_result"
    }
   ],
   "source": [
    "ran.predict(X_test)"
   ]
  },
  {
   "cell_type": "markdown",
   "id": "4f1805c4",
   "metadata": {},
   "source": [
    "### Evaluation"
   ]
  },
  {
   "cell_type": "code",
   "execution_count": 68,
   "id": "10326ad1",
   "metadata": {},
   "outputs": [
    {
     "data": {
      "text/plain": [
       "0.0027988434620273006"
      ]
     },
     "execution_count": 68,
     "metadata": {},
     "output_type": "execute_result"
    }
   ],
   "source": [
    "mean_absolute_error(y_test, ranPred)"
   ]
  },
  {
   "cell_type": "code",
   "execution_count": 69,
   "id": "5ec5e5ce",
   "metadata": {},
   "outputs": [
    {
     "data": {
      "text/plain": [
       "34.47317020908632"
      ]
     },
     "execution_count": 69,
     "metadata": {},
     "output_type": "execute_result"
    }
   ],
   "source": [
    "mean_squared_error(y_test, quantPred)"
   ]
  },
  {
   "cell_type": "code",
   "execution_count": null,
   "id": "9b3bac1f",
   "metadata": {},
   "outputs": [],
   "source": []
  },
  {
   "cell_type": "markdown",
   "id": "14d0a97d",
   "metadata": {},
   "source": [
    "## TheilSenRegressor"
   ]
  },
  {
   "cell_type": "code",
   "execution_count": 70,
   "id": "50b94d21",
   "metadata": {},
   "outputs": [],
   "source": [
    "the = TheilSenRegressor()"
   ]
  },
  {
   "cell_type": "code",
   "execution_count": 71,
   "id": "c24c49a8",
   "metadata": {},
   "outputs": [],
   "source": [
    "theFit = the.fit(X_train, y_train)"
   ]
  },
  {
   "cell_type": "code",
   "execution_count": 72,
   "id": "884c5f17",
   "metadata": {},
   "outputs": [
    {
     "data": {
      "text/plain": [
       "TheilSenRegressor(max_subpopulation=10000)"
      ]
     },
     "execution_count": 72,
     "metadata": {},
     "output_type": "execute_result"
    }
   ],
   "source": [
    "the.fit(X_train, y_train)"
   ]
  },
  {
   "cell_type": "code",
   "execution_count": 73,
   "id": "3b30d4d6",
   "metadata": {},
   "outputs": [],
   "source": [
    "thePred = the.predict(X_test)"
   ]
  },
  {
   "cell_type": "code",
   "execution_count": 74,
   "id": "a2d2ae14",
   "metadata": {},
   "outputs": [
    {
     "data": {
      "text/plain": [
       "array([18.28296214, 21.59843646, 11.0167776 ,  9.00027098, 11.49954009,\n",
       "        8.33401914,  8.56650857, 12.99873776,  9.83454002, 16.8360189 ,\n",
       "        4.93117417,  4.66540094,  4.69973132,  1.86583963,  8.50002535,\n",
       "       10.83181022,  7.66443916,  8.48306192, 16.83477946, 26.99809621,\n",
       "       24.33415035, 21.29815719,  4.99775362,  2.73800493, 17.66807953,\n",
       "       18.91641552,  5.69975487, 13.33404222,  9.34780958, 15.33295443,\n",
       "       12.46706309,  9.32984285,  6.46827579, 26.49920798, 18.8657374 ,\n",
       "        8.66774275])"
      ]
     },
     "execution_count": 74,
     "metadata": {},
     "output_type": "execute_result"
    }
   ],
   "source": [
    "the.predict(X_test)"
   ]
  },
  {
   "cell_type": "markdown",
   "id": "b0e8c8b7",
   "metadata": {},
   "source": [
    "### Evaluation"
   ]
  },
  {
   "cell_type": "code",
   "execution_count": 75,
   "id": "aca82456",
   "metadata": {},
   "outputs": [
    {
     "data": {
      "text/plain": [
       "0.0027351757137611646"
      ]
     },
     "execution_count": 75,
     "metadata": {},
     "output_type": "execute_result"
    }
   ],
   "source": [
    "mean_absolute_error(y_test, thePred)"
   ]
  },
  {
   "cell_type": "code",
   "execution_count": 76,
   "id": "c854e300",
   "metadata": {},
   "outputs": [
    {
     "data": {
      "text/plain": [
       "1.0842846948518258e-05"
      ]
     },
     "execution_count": 76,
     "metadata": {},
     "output_type": "execute_result"
    }
   ],
   "source": [
    "mean_squared_error(y_test, thePred)"
   ]
  },
  {
   "cell_type": "code",
   "execution_count": null,
   "id": "db7017e9",
   "metadata": {},
   "outputs": [],
   "source": []
  },
  {
   "cell_type": "markdown",
   "id": "bb99ff35",
   "metadata": {},
   "source": [
    "## TweedieRegressor"
   ]
  },
  {
   "cell_type": "code",
   "execution_count": 77,
   "id": "8de81e81",
   "metadata": {},
   "outputs": [],
   "source": [
    "twee = TweedieRegressor()"
   ]
  },
  {
   "cell_type": "code",
   "execution_count": 78,
   "id": "47fba1b4",
   "metadata": {},
   "outputs": [
    {
     "name": "stderr",
     "output_type": "stream",
     "text": [
      "C:\\Users\\mojja\\anaconda3\\lib\\site-packages\\sklearn\\linear_model\\_glm\\glm.py:323: ConvergenceWarning: lbfgs failed to converge (status=1):\n",
      "STOP: TOTAL NO. of ITERATIONS REACHED LIMIT.\n",
      "\n",
      "Increase the number of iterations (max_iter) or scale the data as shown in:\n",
      "    https://scikit-learn.org/stable/modules/preprocessing.html\n",
      "  self.n_iter_ = _check_optimize_result(\"lbfgs\", opt_res)\n"
     ]
    }
   ],
   "source": [
    "tweeFit = twee.fit(X_train, y_train)"
   ]
  },
  {
   "cell_type": "code",
   "execution_count": 79,
   "id": "98fc3d11",
   "metadata": {},
   "outputs": [
    {
     "name": "stderr",
     "output_type": "stream",
     "text": [
      "C:\\Users\\mojja\\anaconda3\\lib\\site-packages\\sklearn\\linear_model\\_glm\\glm.py:323: ConvergenceWarning: lbfgs failed to converge (status=1):\n",
      "STOP: TOTAL NO. of ITERATIONS REACHED LIMIT.\n",
      "\n",
      "Increase the number of iterations (max_iter) or scale the data as shown in:\n",
      "    https://scikit-learn.org/stable/modules/preprocessing.html\n",
      "  self.n_iter_ = _check_optimize_result(\"lbfgs\", opt_res)\n"
     ]
    },
    {
     "data": {
      "text/plain": [
       "TweedieRegressor()"
      ]
     },
     "execution_count": 79,
     "metadata": {},
     "output_type": "execute_result"
    }
   ],
   "source": [
    "twee.fit(X_train, y_train)"
   ]
  },
  {
   "cell_type": "code",
   "execution_count": 80,
   "id": "189da18b",
   "metadata": {},
   "outputs": [],
   "source": [
    "tweePred = twee.predict(X_test)"
   ]
  },
  {
   "cell_type": "code",
   "execution_count": 81,
   "id": "3a66711f",
   "metadata": {},
   "outputs": [
    {
     "data": {
      "text/plain": [
       "array([18.00935702, 21.68692843, 11.50115286,  9.10685594, 10.68987123,\n",
       "        8.0997407 ,  8.94569969, 12.61401902,  9.54058872, 15.59915777,\n",
       "        5.34888974,  5.75401376,  5.78619483,  3.06173701,  8.7470683 ,\n",
       "       10.16528652,  8.37840043,  8.77155571, 16.00721369, 26.00217149,\n",
       "       23.46089365, 21.38692604,  5.61173297,  2.25138533, 16.71201486,\n",
       "       19.29246901,  6.41264296, 12.77723882,  9.94651193, 14.79782201,\n",
       "       12.73050131,  9.3906688 ,  6.96902247, 25.22448487, 19.45769814,\n",
       "        8.18506368])"
      ]
     },
     "execution_count": 81,
     "metadata": {},
     "output_type": "execute_result"
    }
   ],
   "source": [
    "twee.predict(X_test)"
   ]
  },
  {
   "cell_type": "markdown",
   "id": "b3f00996",
   "metadata": {},
   "source": [
    "### Evaluation"
   ]
  },
  {
   "cell_type": "code",
   "execution_count": 82,
   "id": "94732003",
   "metadata": {},
   "outputs": [
    {
     "data": {
      "text/plain": [
       "0.575565581833135"
      ]
     },
     "execution_count": 82,
     "metadata": {},
     "output_type": "execute_result"
    }
   ],
   "source": [
    "mean_absolute_error(y_test, tweePred)"
   ]
  },
  {
   "cell_type": "code",
   "execution_count": 83,
   "id": "feb3699c",
   "metadata": {},
   "outputs": [
    {
     "data": {
      "text/plain": [
       "0.4455015245041937"
      ]
     },
     "execution_count": 83,
     "metadata": {},
     "output_type": "execute_result"
    }
   ],
   "source": [
    "mean_squared_error(y_test, tweePred)"
   ]
  },
  {
   "cell_type": "code",
   "execution_count": null,
   "id": "0e8b026f",
   "metadata": {},
   "outputs": [],
   "source": []
  },
  {
   "cell_type": "markdown",
   "id": "4cc6e067",
   "metadata": {},
   "source": [
    "## AdaBoostRegressor"
   ]
  },
  {
   "cell_type": "code",
   "execution_count": 84,
   "id": "ce0a86f1",
   "metadata": {},
   "outputs": [],
   "source": [
    "ada = AdaBoostRegressor()"
   ]
  },
  {
   "cell_type": "code",
   "execution_count": 85,
   "id": "2a6bf60d",
   "metadata": {},
   "outputs": [],
   "source": [
    "adaFit = ada.fit(X_train, y_train)"
   ]
  },
  {
   "cell_type": "code",
   "execution_count": 86,
   "id": "263df9d6",
   "metadata": {},
   "outputs": [
    {
     "data": {
      "text/plain": [
       "AdaBoostRegressor()"
      ]
     },
     "execution_count": 86,
     "metadata": {},
     "output_type": "execute_result"
    }
   ],
   "source": [
    "ada.fit(X_train, y_train)"
   ]
  },
  {
   "cell_type": "code",
   "execution_count": 87,
   "id": "18e0b680",
   "metadata": {},
   "outputs": [],
   "source": [
    "adaPred = ada.predict(X_test)"
   ]
  },
  {
   "cell_type": "code",
   "execution_count": 88,
   "id": "ff225218",
   "metadata": {},
   "outputs": [
    {
     "data": {
      "text/plain": [
       "array([17.27833333, 21.81222222, 11.640625  ,  9.10222222, 11.1225    ,\n",
       "        8.63363636,  8.97545455, 12.2325    ,  9.41833333, 15.958     ,\n",
       "        5.27583333,  5.21954545,  5.21954545,  2.35888889,  8.92851852,\n",
       "       11.1225    ,  7.65733333,  8.92851852, 15.958     , 25.665     ,\n",
       "       25.665     , 21.81222222,  5.278     ,  2.35      , 18.        ,\n",
       "       18.235     ,  5.7405    , 12.2325    ,  9.34666667, 15.78833333,\n",
       "       12.458     ,  9.118     ,  6.28285714, 25.57      , 18.20714286,\n",
       "        8.92851852])"
      ]
     },
     "execution_count": 88,
     "metadata": {},
     "output_type": "execute_result"
    }
   ],
   "source": [
    "ada.predict(X_test)"
   ]
  },
  {
   "cell_type": "markdown",
   "id": "67d424ae",
   "metadata": {},
   "source": [
    "### Evaluation"
   ]
  },
  {
   "cell_type": "code",
   "execution_count": 89,
   "id": "9568639e",
   "metadata": {},
   "outputs": [
    {
     "data": {
      "text/plain": [
       "0.49305327581369224"
      ]
     },
     "execution_count": 89,
     "metadata": {},
     "output_type": "execute_result"
    }
   ],
   "source": [
    "mean_absolute_error(y_test, adaPred)"
   ]
  },
  {
   "cell_type": "code",
   "execution_count": 90,
   "id": "4c7c4cf8",
   "metadata": {},
   "outputs": [
    {
     "data": {
      "text/plain": [
       "0.3615978182962899"
      ]
     },
     "execution_count": 90,
     "metadata": {},
     "output_type": "execute_result"
    }
   ],
   "source": [
    "mean_squared_error(y_test, adaPred)"
   ]
  },
  {
   "cell_type": "code",
   "execution_count": null,
   "id": "2ee1cee9",
   "metadata": {},
   "outputs": [],
   "source": []
  },
  {
   "cell_type": "markdown",
   "id": "79c40117",
   "metadata": {},
   "source": [
    "# Choosing the best model and exporting for model deployment"
   ]
  },
  {
   "cell_type": "markdown",
   "id": "d1cb50f6",
   "metadata": {},
   "source": [
    "#### After careful consideration and analysis, we discovered that the best model worthy of deployment is our Linear Regression Model."
   ]
  },
  {
   "cell_type": "markdown",
   "id": "29f243f8",
   "metadata": {},
   "source": [
    "#### Exporting:"
   ]
  },
  {
   "cell_type": "code",
   "execution_count": 111,
   "id": "43d8dec2",
   "metadata": {},
   "outputs": [],
   "source": [
    "log = LinearRegression()"
   ]
  },
  {
   "cell_type": "code",
   "execution_count": 92,
   "id": "b690749b",
   "metadata": {},
   "outputs": [],
   "source": [
    "import pickle"
   ]
  },
  {
   "cell_type": "code",
   "execution_count": 112,
   "id": "dad129ff",
   "metadata": {},
   "outputs": [],
   "source": [
    "filename = \"sweet.sav\"\n",
    "pickle.dump(logFit, open(filename, \"wb\"))"
   ]
  },
  {
   "cell_type": "code",
   "execution_count": 105,
   "id": "0cb7108e",
   "metadata": {},
   "outputs": [
    {
     "data": {
      "text/plain": [
       "array([0, 1, 3, 5, 9, 4, 7, 2, 6, 8])"
      ]
     },
     "execution_count": 105,
     "metadata": {},
     "output_type": "execute_result"
    }
   ],
   "source": [
    "df[\"fertilizerCode\"].unique()"
   ]
  },
  {
   "cell_type": "code",
   "execution_count": 107,
   "id": "4b48f85c",
   "metadata": {},
   "outputs": [],
   "source": [
    "y_train = \"y.sav\"\n",
    "pickle.dump(log, open(y_train, \"wb\"))"
   ]
  },
  {
   "cell_type": "code",
   "execution_count": 109,
   "id": "12355fd1",
   "metadata": {},
   "outputs": [],
   "source": [
    "X_train = \"X.sav\"\n",
    "pickle.dump(log, open(X_train, \"wb\"))"
   ]
  },
  {
   "cell_type": "code",
   "execution_count": null,
   "id": "7dee8063",
   "metadata": {},
   "outputs": [],
   "source": [
    "fd = pd.read_excel(\"potato.xlsx\")"
   ]
  },
  {
   "cell_type": "code",
   "execution_count": null,
   "id": "dab15476",
   "metadata": {},
   "outputs": [],
   "source": [
    "fd[\"fertilizerCode\"].unique()"
   ]
  }
 ],
 "metadata": {
  "kernelspec": {
   "display_name": "Python 3 (ipykernel)",
   "language": "python",
   "name": "python3"
  },
  "language_info": {
   "codemirror_mode": {
    "name": "ipython",
    "version": 3
   },
   "file_extension": ".py",
   "mimetype": "text/x-python",
   "name": "python",
   "nbconvert_exporter": "python",
   "pygments_lexer": "ipython3",
   "version": "3.9.12"
  }
 },
 "nbformat": 4,
 "nbformat_minor": 5
}
